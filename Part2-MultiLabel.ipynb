{
 "cells": [
  {
   "cell_type": "markdown",
   "metadata": {},
   "source": [
    "# Predict tags on job skills with linear models"
   ]
  },
  {
   "cell_type": "markdown",
   "metadata": {},
   "source": [
    "In this notebook we are going to predict tags for job skills.\n",
    "We are going to use TanitJobs + all the text taged \"skill\" from the previous model\n",
    "\n",
    "### Libraries\n",
    "\n",
    "- Numpy - a package for scientific computing.\n",
    "- Pandas - a library providing high-performance, easy-to-use data structures and data analysis tools for the Python\n",
    "- Scikit-learn - a tool for data mining and data analysis.\n",
    "- NLTK - a platform to work with natural language."
   ]
  },
  {
   "cell_type": "markdown",
   "metadata": {},
   "source": [
    "### Data"
   ]
  },
  {
   "cell_type": "markdown",
   "metadata": {},
   "source": [
    "### Train and Validation Data"
   ]
  },
  {
   "cell_type": "code",
   "execution_count": 1,
   "metadata": {},
   "outputs": [],
   "source": [
    "from ast import literal_eval\n",
    "import pandas as pd\n",
    "import numpy as np"
   ]
  },
  {
   "cell_type": "code",
   "execution_count": 2,
   "metadata": {},
   "outputs": [],
   "source": [
    "df = pd.read_csv(\"./Tanitjobs (1).csv\", sep=',')\n",
    "df.dropna(inplace = True)\n",
    "\n",
    "df['tag'] = df['tag'].apply(literal_eval)"
   ]
  },
  {
   "cell_type": "code",
   "execution_count": 3,
   "metadata": {},
   "outputs": [
    {
     "data": {
      "text/html": [
       "<div>\n",
       "<style scoped>\n",
       "    .dataframe tbody tr th:only-of-type {\n",
       "        vertical-align: middle;\n",
       "    }\n",
       "\n",
       "    .dataframe tbody tr th {\n",
       "        vertical-align: top;\n",
       "    }\n",
       "\n",
       "    .dataframe thead th {\n",
       "        text-align: right;\n",
       "    }\n",
       "</style>\n",
       "<table border=\"1\" class=\"dataframe\">\n",
       "  <thead>\n",
       "    <tr style=\"text-align: right;\">\n",
       "      <th></th>\n",
       "      <th>text</th>\n",
       "      <th>tag</th>\n",
       "    </tr>\n",
       "  </thead>\n",
       "  <tbody>\n",
       "    <tr>\n",
       "      <td>0</td>\n",
       "      <td>Skills and Qualifications  Bachelor's degree i...</td>\n",
       "      <td>[Technologie de l'information , IT ,  Computer...</td>\n",
       "    </tr>\n",
       "    <tr>\n",
       "      <td>1</td>\n",
       "      <td>Profile: You have completed your technical stu...</td>\n",
       "      <td>[Développeur  , Web  , Full Stack , PHP , HTML...</td>\n",
       "    </tr>\n",
       "    <tr>\n",
       "      <td>2</td>\n",
       "      <td>Technical Skills: SQL Server / SQL, basic Sync...</td>\n",
       "      <td>[Responsable Applicatif  , SQL , C , .NET ]</td>\n",
       "    </tr>\n",
       "    <tr>\n",
       "      <td>3</td>\n",
       "      <td>In our R &amp; D team, you will participate in the...</td>\n",
       "      <td>[Ingénieur  , Développement , C++ ]</td>\n",
       "    </tr>\n",
       "    <tr>\n",
       "      <td>4</td>\n",
       "      <td>Job requirements you serious, motivated, punct...</td>\n",
       "      <td>[Formateur  , Développement  , Web ]</td>\n",
       "    </tr>\n",
       "    <tr>\n",
       "      <td>...</td>\n",
       "      <td>...</td>\n",
       "      <td>...</td>\n",
       "    </tr>\n",
       "    <tr>\n",
       "      <td>185</td>\n",
       "      <td>- Minimum experience 3 years- Very good comman...</td>\n",
       "      <td>[Administrateur Systèmes et Réseaux , Réseaux ...</td>\n",
       "    </tr>\n",
       "    <tr>\n",
       "      <td>186</td>\n",
       "      <td>Your profile to complete this mission: Higher ...</td>\n",
       "      <td>[Web/Chef de projet/Suivi stratégique ]</td>\n",
       "    </tr>\n",
       "    <tr>\n",
       "      <td>187</td>\n",
       "      <td>Deriving (e) of a higher training in communica...</td>\n",
       "      <td>[Community manager rédacteur de contenu ]</td>\n",
       "    </tr>\n",
       "    <tr>\n",
       "      <td>188</td>\n",
       "      <td>Ability to work in a team. Degree in Computer...</td>\n",
       "      <td>[php , css , jquery , js , reactjs , redux , h...</td>\n",
       "    </tr>\n",
       "    <tr>\n",
       "      <td>189</td>\n",
       "      <td>Diplomas required business school degree, engi...</td>\n",
       "      <td>[Marketing ,  commerce ,  analyst ,  statistiq...</td>\n",
       "    </tr>\n",
       "  </tbody>\n",
       "</table>\n",
       "<p>190 rows × 2 columns</p>\n",
       "</div>"
      ],
      "text/plain": [
       "                                                  text  \\\n",
       "0    Skills and Qualifications  Bachelor's degree i...   \n",
       "1    Profile: You have completed your technical stu...   \n",
       "2    Technical Skills: SQL Server / SQL, basic Sync...   \n",
       "3    In our R & D team, you will participate in the...   \n",
       "4    Job requirements you serious, motivated, punct...   \n",
       "..                                                 ...   \n",
       "185  - Minimum experience 3 years- Very good comman...   \n",
       "186  Your profile to complete this mission: Higher ...   \n",
       "187  Deriving (e) of a higher training in communica...   \n",
       "188   Ability to work in a team. Degree in Computer...   \n",
       "189  Diplomas required business school degree, engi...   \n",
       "\n",
       "                                                   tag  \n",
       "0    [Technologie de l'information , IT ,  Computer...  \n",
       "1    [Développeur  , Web  , Full Stack , PHP , HTML...  \n",
       "2          [Responsable Applicatif  , SQL , C , .NET ]  \n",
       "3                  [Ingénieur  , Développement , C++ ]  \n",
       "4                 [Formateur  , Développement  , Web ]  \n",
       "..                                                 ...  \n",
       "185  [Administrateur Systèmes et Réseaux , Réseaux ...  \n",
       "186            [Web/Chef de projet/Suivi stratégique ]  \n",
       "187          [Community manager rédacteur de contenu ]  \n",
       "188  [php , css , jquery , js , reactjs , redux , h...  \n",
       "189  [Marketing ,  commerce ,  analyst ,  statistiq...  \n",
       "\n",
       "[190 rows x 2 columns]"
      ]
     },
     "execution_count": 3,
     "metadata": {},
     "output_type": "execute_result"
    }
   ],
   "source": [
    "df"
   ]
  },
  {
   "cell_type": "markdown",
   "metadata": {},
   "source": [
    "### train_test_split"
   ]
  },
  {
   "cell_type": "code",
   "execution_count": 4,
   "metadata": {},
   "outputs": [],
   "source": [
    "from sklearn.model_selection import train_test_split\n",
    "X_train, X_val, y_train, y_val = train_test_split(df.text, df.tag, random_state = 0)"
   ]
  },
  {
   "cell_type": "code",
   "execution_count": 5,
   "metadata": {},
   "outputs": [],
   "source": [
    "X_train = X_train.values\n",
    "X_val = X_val.values\n",
    "y_train = y_train.values\n",
    "y_val = y_val.values"
   ]
  },
  {
   "cell_type": "markdown",
   "metadata": {},
   "source": [
    "### Text preprocessing"
   ]
  },
  {
   "cell_type": "code",
   "execution_count": 6,
   "metadata": {},
   "outputs": [],
   "source": [
    "from ast import literal_eval\n",
    "import pandas as pd\n",
    "import numpy as np"
   ]
  },
  {
   "cell_type": "code",
   "execution_count": 7,
   "metadata": {},
   "outputs": [
    {
     "name": "stderr",
     "output_type": "stream",
     "text": [
      "[nltk_data] Downloading package stopwords to\n",
      "[nltk_data]     /home/fairouz/nltk_data...\n",
      "[nltk_data]   Package stopwords is already up-to-date!\n"
     ]
    }
   ],
   "source": [
    "import nltk\n",
    "nltk.download('stopwords')\n",
    "from nltk.corpus import stopwords"
   ]
  },
  {
   "cell_type": "code",
   "execution_count": 8,
   "metadata": {},
   "outputs": [],
   "source": [
    "import re"
   ]
  },
  {
   "cell_type": "code",
   "execution_count": 9,
   "metadata": {},
   "outputs": [],
   "source": [
    "REPLACE_BY_SPACE_RE = re.compile('[/(){}\\[\\]\\|@,;]')\n",
    "BAD_SYMBOLS_RE = re.compile('[^0-9a-z #+_]')\n",
    "STOPWORDS = set(stopwords.words('english'))\n",
    "\n",
    "def text_prepare(text):\n",
    "    \n",
    "    text = text.lower()\n",
    "    text = re.sub(REPLACE_BY_SPACE_RE, \" \", text)\n",
    "    text = re.sub(BAD_SYMBOLS_RE, \"\", text)\n",
    "    text = \" \".join([word for word in re.split(\" \", text) if (not word in STOPWORDS and not word == \"\")])\n",
    "    return text"
   ]
  },
  {
   "cell_type": "markdown",
   "metadata": {},
   "source": [
    "Now we preprocess the text using function *text_prepare*:"
   ]
  },
  {
   "cell_type": "code",
   "execution_count": 10,
   "metadata": {},
   "outputs": [],
   "source": [
    "X_train = [text_prepare(x) for x in X_train]\n",
    "X_val = [text_prepare(x) for x in X_val]"
   ]
  },
  {
   "cell_type": "code",
   "execution_count": 11,
   "metadata": {},
   "outputs": [
    {
     "data": {
      "text/plain": [
       "['strong analytical skills independent rigorous analysis presentations analyze sensitive telecom costs present customers analysis reporting errors tolerated master fine excel crossing data multiple files manipulating text files links databases excel formulas analyzes pivot tables graphics editing macros know least one scripting language manipulating data csv xls bdd vba python powershell programming language net windev learn apply automate future treatment independently know sql language know create join select queries learn know edit report powerpoint speak write fluently french know document technical english training new analysis tools generally provided english assets knowledge hfsql plus appreciated good oral editorial level french plus appreciated may need frequently interact clients email french present reports monthly meetings theoretical knowledge fixed telephony mobile telephony networks internet mpls telecom operators possibly billing plus appreciated handle billing data french telecom operators orange sfr bouygues subscriptions invoices consumption development internet access service bi tools knowledge plus appreciated interest new languages computer skills plus',\n",
       " 'tray bts mastered computer tools without experience spot smiling dynamic presentable rigor']"
      ]
     },
     "execution_count": 11,
     "metadata": {},
     "output_type": "execute_result"
    }
   ],
   "source": [
    "X_train[:2]"
   ]
  },
  {
   "cell_type": "markdown",
   "metadata": {},
   "source": [
    "For each tag and for each word we calculate how many times they occur in the train corpus."
   ]
  },
  {
   "cell_type": "code",
   "execution_count": 12,
   "metadata": {},
   "outputs": [
    {
     "name": "stdout",
     "output_type": "stream",
     "text": [
      "counting words..\n",
      "counting tags..\n",
      "done\n"
     ]
    }
   ],
   "source": [
    "# Dictionary of all tags from train corpus with their counts.\n",
    "tags_counts = {}\n",
    "# Dictionary of all words from train corpus with their counts.\n",
    "words_counts = {}\n",
    "\n",
    "from collections import Counter\n",
    "\n",
    "print(\"counting words..\")\n",
    "words = []\n",
    "for text in X_train:\n",
    "    words = words + text.split()\n",
    "\n",
    "print(\"counting tags..\")\n",
    "tags = []\n",
    "for tag in y_train:\n",
    "    tags = tags + tag\n",
    "\n",
    "print(\"done\")\n",
    "words_counts = Counter(words)\n",
    "tags_counts=Counter(tags)"
   ]
  },
  {
   "cell_type": "code",
   "execution_count": 13,
   "metadata": {},
   "outputs": [
    {
     "data": {
      "text/plain": [
       "1613"
      ]
     },
     "execution_count": 13,
     "metadata": {},
     "output_type": "execute_result"
    }
   ],
   "source": [
    "len(words_counts)"
   ]
  },
  {
   "cell_type": "markdown",
   "metadata": {},
   "source": [
    "#### Bag Of Words"
   ]
  },
  {
   "cell_type": "code",
   "execution_count": 16,
   "metadata": {},
   "outputs": [],
   "source": [
    "DICT_SIZE = 1500\n",
    "WORDS_TO_INDEX = {word:i for i,word in enumerate([word for word,_ in sorted(words_counts.items(), key=lambda x: x[1], reverse=True)[:DICT_SIZE]])}\n",
    "INDEX_TO_WORDS = dict(enumerate(list(WORDS_TO_INDEX)))\n",
    "ALL_WORDS = WORDS_TO_INDEX.keys()\n",
    "\n",
    "def my_bag_of_words(text, words_to_index, dict_size):\n",
    "\n",
    "    result_vector = np.zeros(dict_size)\n",
    "    for word,i in words_to_index.items():\n",
    "        if word in text.split():\n",
    "            result_vector[i] = result_vector[i] +1\n",
    "    \n",
    "    return result_vector"
   ]
  },
  {
   "cell_type": "markdown",
   "metadata": {},
   "source": [
    "Now we apply the implemented function to all samples:"
   ]
  },
  {
   "cell_type": "code",
   "execution_count": 17,
   "metadata": {},
   "outputs": [],
   "source": [
    "from scipy import sparse as sp_sparse"
   ]
  },
  {
   "cell_type": "code",
   "execution_count": 18,
   "metadata": {},
   "outputs": [
    {
     "name": "stdout",
     "output_type": "stream",
     "text": [
      "X_train shape  (142, 1500)\n",
      "X_val shape  (48, 1500)\n"
     ]
    }
   ],
   "source": [
    "X_train_mybag = sp_sparse.vstack([sp_sparse.csr_matrix(my_bag_of_words(text, WORDS_TO_INDEX, DICT_SIZE)) for text in X_train])\n",
    "X_val_mybag = sp_sparse.vstack([sp_sparse.csr_matrix(my_bag_of_words(text, WORDS_TO_INDEX, DICT_SIZE)) for text in X_val])\n",
    "# X_train_mybag.toarray() pour \"decompresser\" la matrice\n",
    "print('X_train shape ', X_train_mybag.shape)\n",
    "print('X_val shape ', X_val_mybag.shape)"
   ]
  },
  {
   "cell_type": "markdown",
   "metadata": {},
   "source": [
    "We transform the data to sparse representation, to store the useful information efficiently.\n",
    "\n",
    "Sklearn algorithms can work only with **csr** matrix, so we will use this one."
   ]
  },
  {
   "cell_type": "markdown",
   "metadata": {},
   "source": [
    "### Training\n",
    "\n",
    "Each example can have multiple tags. To deal with such kind of prediction, we need to transform labels in a binary form and the prediction will be a mask of 0s and 1s. For this purpose it is convenient to use MultiLabelBinarizer from *sklearn*."
   ]
  },
  {
   "cell_type": "code",
   "execution_count": 19,
   "metadata": {},
   "outputs": [],
   "source": [
    "from sklearn.preprocessing import MultiLabelBinarizer"
   ]
  },
  {
   "cell_type": "code",
   "execution_count": 20,
   "metadata": {},
   "outputs": [
    {
     "name": "stderr",
     "output_type": "stream",
     "text": [
      "/home/fairouz/.local/lib/python3.6/site-packages/sklearn/preprocessing/label.py:951: UserWarning: unknown class(es) ['Administrateur Systèmes et Réseaux ', 'Agile  ', 'Computer science ', 'Gestion de Projet  ', 'Ingénieur ', 'JIRA ', 'Leps Administrator '] will be ignored\n",
      "  .format(sorted(unknown, key=str)))\n"
     ]
    }
   ],
   "source": [
    "mlb = MultiLabelBinarizer(classes=sorted(tags_counts.keys()))\n",
    "y_train = mlb.fit_transform(y_train)\n",
    "y_val = mlb.fit_transform(y_val)"
   ]
  },
  {
   "cell_type": "code",
   "execution_count": 21,
   "metadata": {},
   "outputs": [
    {
     "name": "stdout",
     "output_type": "stream",
     "text": [
      "302\n",
      "[' .NET Core ' ' .Net ' ' AGILE ' ' AJAX ' ' ALM ' ' Analyste '\n",
      " ' Angular ' ' Avaloq ' ' BOOTSTRAP ' ' Bootstrap 4 ']\n"
     ]
    }
   ],
   "source": [
    "print(len(mlb.classes_))\n",
    "print(mlb.classes_[:10])"
   ]
  },
  {
   "cell_type": "code",
   "execution_count": 22,
   "metadata": {},
   "outputs": [],
   "source": [
    "from sklearn.multiclass import OneVsRestClassifier\n",
    "from sklearn.linear_model import LogisticRegression, RidgeClassifier"
   ]
  },
  {
   "cell_type": "code",
   "execution_count": 23,
   "metadata": {},
   "outputs": [],
   "source": [
    "def train_classifier_LogisticRegression(X_train, y_train):\n",
    "    \n",
    "    clf = OneVsRestClassifier(LogisticRegression()).fit(X_train, y_train)\n",
    "    return clf"
   ]
  },
  {
   "cell_type": "code",
   "execution_count": 24,
   "metadata": {},
   "outputs": [],
   "source": [
    "def train_classifier_RidgeClassifier(X_train, y_train):\n",
    "    \n",
    "    clf = OneVsRestClassifier(RidgeClassifier()).fit(X_train, y_train)\n",
    "    return clf"
   ]
  },
  {
   "cell_type": "markdown",
   "metadata": {},
   "source": [
    "Train the classifiers for different data transformations: *bag-of-words* and *tf-idf*."
   ]
  },
  {
   "cell_type": "code",
   "execution_count": 25,
   "metadata": {},
   "outputs": [
    {
     "name": "stderr",
     "output_type": "stream",
     "text": [
      "/home/fairouz/.local/lib/python3.6/site-packages/sklearn/linear_model/logistic.py:432: FutureWarning: Default solver will be changed to 'lbfgs' in 0.22. Specify a solver to silence this warning.\n",
      "  FutureWarning)\n"
     ]
    }
   ],
   "source": [
    "classifier_LogisticRegression = train_classifier_LogisticRegression(X_train_mybag, y_train)\n",
    "classifier_RidgeClassifier = train_classifier_RidgeClassifier(X_train_mybag, y_train)"
   ]
  },
  {
   "cell_type": "markdown",
   "metadata": {},
   "source": [
    "Now you can create predictions for the data. You will need two types of predictions: labels and scores."
   ]
  },
  {
   "cell_type": "code",
   "execution_count": 26,
   "metadata": {},
   "outputs": [],
   "source": [
    "y_val_predicted_labels_LogisticRegression = classifier_LogisticRegression.predict(X_val_mybag)\n",
    "y_val_predicted_scores_LogisticRegression = classifier_LogisticRegression.decision_function(X_val_mybag)\n",
    "\n",
    "y_val_predicted_labels_RidgeClassifier = classifier_RidgeClassifier.predict(X_val_mybag)\n",
    "y_val_predicted_scores_RidgeClassifier = classifier_RidgeClassifier.decision_function(X_val_mybag)"
   ]
  },
  {
   "cell_type": "markdown",
   "metadata": {},
   "source": [
    "Now take a look at how Ridge Classifier works for a few examples:"
   ]
  },
  {
   "cell_type": "code",
   "execution_count": 27,
   "metadata": {},
   "outputs": [
    {
     "name": "stdout",
     "output_type": "stream",
     "text": [
      "Title:\tderiving e engineering background electronics automation instrumentation industrial proven experience 2 5 years minimum position similairevous control software design automation autocadvous indepth knowledge schneider siemens design supervisionvous knowledge electronic electrical diagrams knowledge supervision software type intouch win cc ignition plusvous control cost calculation position chiffragele requires significant mobility abroad good level english good interpersonal skills rigor organization responsiveness adaptability strengths succeed mission order consider application carefully appreciate contact vidal associates consulting search filing application reference vt10180f\n",
      "True labels:\tAutomatisme ,Electronique ,Informatique industrielle ,Ingénieur Automatisme ,Instrumentation \n",
      "Predicted labels:\tAutomatisme ,Electronique ,Informatique industrielle ,Ingénieur Automatisme ,Instrumentation \n",
      "\n",
      "\n",
      "Title:\tbts degree specialized experience technical competence field computer maintenance efficiency communicate direct work environment customers suppliers apply contact +216 98248675 send email info mediahousetncom\n",
      "True labels:\tMaintenance ,Technicien en Maintenance,infrastructure \n",
      "Predicted labels:\tMaintenance ,Technicien en Maintenance,infrastructure \n",
      "\n",
      "\n",
      "Title:\tgraduate e business school engineering specialty finance e real sense customer service strong ability work team strong taste figures good analytical synthesis good organizational skills good command english french pack office freshly graduated e pfe send cv\n",
      "True labels:\tBusiness Analyst ,Commerce  ,Finance  ,Gestion  \n",
      "Predicted labels:\t\n",
      "\n",
      "\n"
     ]
    }
   ],
   "source": [
    "y_val_pred_inversed = mlb.inverse_transform(y_val_predicted_labels_RidgeClassifier)\n",
    "y_val_inversed = mlb.inverse_transform(y_val)\n",
    "for i in range(3):\n",
    "    print('Title:\\t{}\\nTrue labels:\\t{}\\nPredicted labels:\\t{}\\n\\n'.format(\n",
    "        X_val[i],\n",
    "        ','.join(y_val_inversed[i]),\n",
    "        ','.join(y_val_pred_inversed[i])\n",
    "    ))"
   ]
  },
  {
   "cell_type": "markdown",
   "metadata": {},
   "source": [
    "### Evaluation\n",
    "\n",
    "To evaluate the results we will use several classification metrics:\n",
    " - Accuracy\n",
    " - F1-score"
   ]
  },
  {
   "cell_type": "code",
   "execution_count": 28,
   "metadata": {},
   "outputs": [],
   "source": [
    "from sklearn.metrics import accuracy_score\n",
    "from sklearn.metrics import f1_score"
   ]
  },
  {
   "cell_type": "code",
   "execution_count": 29,
   "metadata": {},
   "outputs": [],
   "source": [
    "def print_evaluation_scores(y_val, predicted):\n",
    "    \n",
    "    accuracy=accuracy_score(y_val, predicted)\n",
    "    f1_score_macro=f1_score(y_val, predicted, average='macro')\n",
    "    f1_score_micro=f1_score(y_val, predicted, average='micro')\n",
    "    f1_score_weighted=f1_score(y_val, predicted, average='weighted')\n",
    "\n",
    "    print(\"Accuracy:\", accuracy)\n",
    "    print(\"F1-score macro:\", f1_score_macro)\n",
    "    print(\"F1-score micro:\", f1_score_micro)\n",
    "    print(\"F1-score weighted:\", f1_score_weighted)  "
   ]
  },
  {
   "cell_type": "code",
   "execution_count": 31,
   "metadata": {},
   "outputs": [
    {
     "name": "stdout",
     "output_type": "stream",
     "text": [
      "LogisticRegression\n",
      "Accuracy: 0.8333333333333334\n",
      "F1-score macro: 0.4666666666666667\n",
      "F1-score micro: 0.9081364829396326\n",
      "F1-score weighted: 0.8746268656716418\n",
      "\n",
      "RidgeClassifier\n",
      "Accuracy: 0.8541666666666666\n",
      "F1-score macro: 0.477924944812362\n",
      "F1-score micro: 0.9222797927461139\n",
      "F1-score weighted: 0.8955223880597015\n"
     ]
    }
   ],
   "source": [
    "print('LogisticRegression')\n",
    "print_evaluation_scores(y_val, y_val_predicted_labels_LogisticRegression)\n",
    "print()\n",
    "print('RidgeClassifier')\n",
    "print_evaluation_scores(y_val, y_val_predicted_labels_RidgeClassifier)"
   ]
  }
 ],
 "metadata": {
  "kernelspec": {
   "display_name": "Python 3",
   "language": "python",
   "name": "python3"
  },
  "language_info": {
   "codemirror_mode": {
    "name": "ipython",
    "version": 3
   },
   "file_extension": ".py",
   "mimetype": "text/x-python",
   "name": "python",
   "nbconvert_exporter": "python",
   "pygments_lexer": "ipython3",
   "version": "3.6.9"
  }
 },
 "nbformat": 4,
 "nbformat_minor": 4
}
