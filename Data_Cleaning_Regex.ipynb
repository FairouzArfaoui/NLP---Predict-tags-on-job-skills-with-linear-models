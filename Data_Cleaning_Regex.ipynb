{
 "cells": [
  {
   "cell_type": "code",
   "execution_count": null,
   "metadata": {
    "colab": {
     "base_uri": "https://localhost:8080/",
     "height": 17
    },
    "colab_type": "code",
    "id": "sIHDMhFAi-QL",
    "outputId": "63bdeda5-35ef-47c1-9229-bf3ebf12b534"
   },
   "outputs": [
    {
     "data": {
      "text/html": [
       "\n",
       "    <style>\n",
       "        pre {\n",
       "            white-space: pre-wrap;\n",
       "        }\n",
       "    </style>\n",
       "  "
      ],
      "text/plain": [
       "<IPython.core.display.HTML object>"
      ]
     },
     "metadata": {
      "tags": []
     },
     "output_type": "display_data"
    }
   ],
   "source": [
    "from IPython.display import HTML, display\n",
    "\n",
    "def set_css():\n",
    "  display(HTML('''\n",
    "    <style>\n",
    "        pre {\n",
    "            white-space: pre-wrap;\n",
    "        }\n",
    "    </style>\n",
    "  '''))\n",
    "get_ipython().events.register('pre_run_cell', set_css)"
   ]
  },
  {
   "cell_type": "markdown",
   "metadata": {
    "colab_type": "text",
    "id": "kFXBR1tbjHOz"
   },
   "source": [
    "# Importing Libraries"
   ]
  },
  {
   "cell_type": "code",
   "execution_count": null,
   "metadata": {
    "colab": {},
    "colab_type": "code",
    "id": "WN_C9Jxv0nQa"
   },
   "outputs": [],
   "source": [
    "!python -m spacy download en_core_web_sm\n",
    "!pip install pdfminer.six"
   ]
  },
  {
   "cell_type": "code",
   "execution_count": null,
   "metadata": {
    "colab": {
     "base_uri": "https://localhost:8080/",
     "height": 187
    },
    "colab_type": "code",
    "id": "cNJkIYRRjFfA",
    "outputId": "912fa225-f838-451b-ec58-ab198d08d4b3"
   },
   "outputs": [
    {
     "data": {
      "text/html": [
       "\n",
       "    <style>\n",
       "        pre {\n",
       "            white-space: pre-wrap;\n",
       "        }\n",
       "    </style>\n",
       "  "
      ],
      "text/plain": [
       "<IPython.core.display.HTML object>"
      ]
     },
     "metadata": {
      "tags": []
     },
     "output_type": "display_data"
    },
    {
     "data": {
      "text/html": [
       "\n",
       "    <style>\n",
       "        pre {\n",
       "            white-space: pre-wrap;\n",
       "        }\n",
       "    </style>\n",
       "  "
      ],
      "text/plain": [
       "<IPython.core.display.HTML object>"
      ]
     },
     "metadata": {
      "tags": []
     },
     "output_type": "display_data"
    },
    {
     "name": "stdout",
     "output_type": "stream",
     "text": [
      "[nltk_data] Downloading package stopwords to /root/nltk_data...\n",
      "[nltk_data]   Package stopwords is already up-to-date!\n",
      "[nltk_data] Downloading package punkt to /root/nltk_data...\n",
      "[nltk_data]   Package punkt is already up-to-date!\n",
      "[nltk_data] Downloading package wordnet to /root/nltk_data...\n",
      "[nltk_data]   Package wordnet is already up-to-date!\n",
      "[nltk_data] Downloading package averaged_perceptron_tagger to\n",
      "[nltk_data]     /root/nltk_data...\n",
      "[nltk_data]   Package averaged_perceptron_tagger is already up-to-\n",
      "[nltk_data]       date!\n"
     ]
    }
   ],
   "source": [
    "import numpy as np\n",
    "import pandas as pd \n",
    "from gensim.models import Word2Vec\n",
    "import nltk\n",
    "from nltk.corpus import stopwords\n",
    "from nltk.stem import WordNetLemmatizer\n",
    "from nltk.corpus import wordnet\n",
    "import spacy\n",
    "from spacy import displacy\n",
    "import re\n",
    "import string\n",
    "from pdfminer.high_level import extract_text\n",
    "import en_core_web_sm\n",
    "from IPython.display import clear_output\n",
    "\n",
    "nltk.download('stopwords')\n",
    "nltk.download('punkt')\n",
    "nltk.download('wordnet')\n",
    "nltk.download('averaged_perceptron_tagger')\n",
    "nlp = en_core_web_sm.load()"
   ]
  },
  {
   "cell_type": "markdown",
   "metadata": {
    "colab_type": "text",
    "id": "y0lLpvHIjnCJ"
   },
   "source": [
    "# Text extraction (PDF)\n",
    "\n"
   ]
  },
  {
   "cell_type": "code",
   "execution_count": null,
   "metadata": {
    "colab": {
     "base_uri": "https://localhost:8080/",
     "height": 17
    },
    "colab_type": "code",
    "id": "4CkPAsFijgh0",
    "outputId": "73d4e37f-e86e-4ed6-fc1b-90e9b17bf163"
   },
   "outputs": [
    {
     "data": {
      "text/html": [
       "\n",
       "    <style>\n",
       "        pre {\n",
       "            white-space: pre-wrap;\n",
       "        }\n",
       "    </style>\n",
       "  "
      ],
      "text/plain": [
       "<IPython.core.display.HTML object>"
      ]
     },
     "metadata": {
      "tags": []
     },
     "output_type": "display_data"
    },
    {
     "data": {
      "text/html": [
       "\n",
       "    <style>\n",
       "        pre {\n",
       "            white-space: pre-wrap;\n",
       "        }\n",
       "    </style>\n",
       "  "
      ],
      "text/plain": [
       "<IPython.core.display.HTML object>"
      ]
     },
     "metadata": {
      "tags": []
     },
     "output_type": "display_data"
    }
   ],
   "source": [
    "def pdf2text(n_files):\n",
    "  pdfs = []\n",
    "  for i in range(1, n_files + 1):\n",
    "    pdfs.append(extract_text('job{}.pdf'.format(i), maxpages = 2))\n",
    "  return pdfs"
   ]
  },
  {
   "cell_type": "code",
   "execution_count": null,
   "metadata": {
    "colab": {
     "base_uri": "https://localhost:8080/",
     "height": 34
    },
    "colab_type": "code",
    "id": "cfkxPmnWkcGI",
    "outputId": "2fa50f6b-ded8-49b1-af96-5c26e6fde6a8"
   },
   "outputs": [
    {
     "data": {
      "text/html": [
       "\n",
       "    <style>\n",
       "        pre {\n",
       "            white-space: pre-wrap;\n",
       "        }\n",
       "    </style>\n",
       "  "
      ],
      "text/plain": [
       "<IPython.core.display.HTML object>"
      ]
     },
     "metadata": {
      "tags": []
     },
     "output_type": "display_data"
    },
    {
     "data": {
      "text/html": [
       "\n",
       "    <style>\n",
       "        pre {\n",
       "            white-space: pre-wrap;\n",
       "        }\n",
       "    </style>\n",
       "  "
      ],
      "text/plain": [
       "<IPython.core.display.HTML object>"
      ]
     },
     "metadata": {
      "tags": []
     },
     "output_type": "display_data"
    },
    {
     "name": "stdout",
     "output_type": "stream",
     "text": [
      "13\n"
     ]
    }
   ],
   "source": [
    "jobs = pdf2text(13)\n",
    "print(len(jobs))"
   ]
  },
  {
   "cell_type": "markdown",
   "metadata": {
    "colab_type": "text",
    "id": "YkoKjavHpv9c"
   },
   "source": [
    "# Text extraction (Web) (Notebook Melek)"
   ]
  },
  {
   "cell_type": "code",
   "execution_count": null,
   "metadata": {
    "colab": {
     "base_uri": "https://localhost:8080/",
     "height": 34
    },
    "colab_type": "code",
    "id": "lAbCVnehp2PI",
    "outputId": "b405139f-4c2e-4fd8-e6da-93cb8e49d82e"
   },
   "outputs": [
    {
     "data": {
      "text/html": [
       "\n",
       "    <style>\n",
       "        pre {\n",
       "            white-space: pre-wrap;\n",
       "        }\n",
       "    </style>\n",
       "  "
      ],
      "text/plain": [
       "<IPython.core.display.HTML object>"
      ]
     },
     "metadata": {
      "tags": []
     },
     "output_type": "display_data"
    },
    {
     "data": {
      "text/html": [
       "\n",
       "    <style>\n",
       "        pre {\n",
       "            white-space: pre-wrap;\n",
       "        }\n",
       "    </style>\n",
       "  "
      ],
      "text/plain": [
       "<IPython.core.display.HTML object>"
      ]
     },
     "metadata": {
      "tags": []
     },
     "output_type": "display_data"
    },
    {
     "name": "stdout",
     "output_type": "stream",
     "text": [
      "484\n"
     ]
    }
   ],
   "source": [
    "web_jobs = pd.read_csv('web_jobs.csv')\n",
    "jobs += list(web_jobs['description'].values)\n",
    "\n",
    "print(len(jobs))"
   ]
  },
  {
   "cell_type": "markdown",
   "metadata": {
    "colab_type": "text",
    "id": "vOz8l4xuquHW"
   },
   "source": [
    "# Text extraction (Docx) (Notebook Hosni)"
   ]
  },
  {
   "cell_type": "code",
   "execution_count": null,
   "metadata": {
    "colab": {
     "base_uri": "https://localhost:8080/",
     "height": 34
    },
    "colab_type": "code",
    "id": "3SOaimIDqkRC",
    "outputId": "bb446836-ee73-4d4b-f526-bc83434683c0"
   },
   "outputs": [
    {
     "data": {
      "text/html": [
       "\n",
       "    <style>\n",
       "        pre {\n",
       "            white-space: pre-wrap;\n",
       "        }\n",
       "    </style>\n",
       "  "
      ],
      "text/plain": [
       "<IPython.core.display.HTML object>"
      ]
     },
     "metadata": {
      "tags": []
     },
     "output_type": "display_data"
    },
    {
     "data": {
      "text/html": [
       "\n",
       "    <style>\n",
       "        pre {\n",
       "            white-space: pre-wrap;\n",
       "        }\n",
       "    </style>\n",
       "  "
      ],
      "text/plain": [
       "<IPython.core.display.HTML object>"
      ]
     },
     "metadata": {
      "tags": []
     },
     "output_type": "display_data"
    },
    {
     "name": "stdout",
     "output_type": "stream",
     "text": [
      "495\n"
     ]
    }
   ],
   "source": [
    "docx_jobs = pd.read_csv('docx_jobs.csv', sep = ';')\n",
    "jobs += list(docx_jobs['offre'].values)\n",
    "\n",
    "print(len(jobs))"
   ]
  },
  {
   "cell_type": "markdown",
   "metadata": {
    "colab_type": "text",
    "id": "w8spQybSlIYC"
   },
   "source": [
    "# Data cleaning and processing\n",
    "> Regex"
   ]
  },
  {
   "cell_type": "code",
   "execution_count": null,
   "metadata": {
    "colab": {
     "base_uri": "https://localhost:8080/",
     "height": 17
    },
    "colab_type": "code",
    "id": "nSY2bn2PkdsR",
    "outputId": "24a1af03-4267-4408-8bc3-c095eb3910c8"
   },
   "outputs": [
    {
     "data": {
      "text/html": [
       "\n",
       "    <style>\n",
       "        pre {\n",
       "            white-space: pre-wrap;\n",
       "        }\n",
       "    </style>\n",
       "  "
      ],
      "text/plain": [
       "<IPython.core.display.HTML object>"
      ]
     },
     "metadata": {
      "tags": []
     },
     "output_type": "display_data"
    },
    {
     "data": {
      "text/html": [
       "\n",
       "    <style>\n",
       "        pre {\n",
       "            white-space: pre-wrap;\n",
       "        }\n",
       "    </style>\n",
       "  "
      ],
      "text/plain": [
       "<IPython.core.display.HTML object>"
      ]
     },
     "metadata": {
      "tags": []
     },
     "output_type": "display_data"
    }
   ],
   "source": [
    "alphabets = '([A-Za-z])'\n",
    "prefixes = '(Mr|Mrs|Ms|Dr|Pr)[.]'\n",
    "suffixes = '(Inc|Ltd|Jr|Sr|Co)'\n",
    "acronyms = '(?:[a-zA-Z]\\.){2,}'\n",
    "websites = '[.](com|net|org|io|gov|fr|uk|usa|esp)'\n",
    "starters = '(Mr\\.|Mrs\\.|Ms\\.|Dr\\.|Pr\\.|However|But|The\\s|This\\s|That\\s|Those\\s|Their\\s|So|Although|Our\\s|He\\s|She\\s|They\\s|We\\s|A\\s)'"
   ]
  },
  {
   "cell_type": "markdown",
   "metadata": {
    "colab_type": "text",
    "id": "9GrJ3NdwNpHw"
   },
   "source": [
    "> Lemmatization"
   ]
  },
  {
   "cell_type": "code",
   "execution_count": null,
   "metadata": {
    "colab": {
     "base_uri": "https://localhost:8080/",
     "height": 17
    },
    "colab_type": "code",
    "id": "cd_63Ib2Nr61",
    "outputId": "fecc1d79-f50f-4713-9af1-be0522630467"
   },
   "outputs": [
    {
     "data": {
      "text/html": [
       "\n",
       "    <style>\n",
       "        pre {\n",
       "            white-space: pre-wrap;\n",
       "        }\n",
       "    </style>\n",
       "  "
      ],
      "text/plain": [
       "<IPython.core.display.HTML object>"
      ]
     },
     "metadata": {
      "tags": []
     },
     "output_type": "display_data"
    },
    {
     "data": {
      "text/html": [
       "\n",
       "    <style>\n",
       "        pre {\n",
       "            white-space: pre-wrap;\n",
       "        }\n",
       "    </style>\n",
       "  "
      ],
      "text/plain": [
       "<IPython.core.display.HTML object>"
      ]
     },
     "metadata": {
      "tags": []
     },
     "output_type": "display_data"
    }
   ],
   "source": [
    "lemmatizer = WordNetLemmatizer()\n",
    "\n",
    "def nltk2wn_tag(nltk_tag):\n",
    "  if nltk_tag.startswith('J'):\n",
    "    return wordnet.ADJ\n",
    "  elif nltk_tag.startswith('V'):\n",
    "    return wordnet.VERB\n",
    "  elif nltk_tag.startswith('N'):\n",
    "    return wordnet.NOUN\n",
    "  elif nltk_tag.startswith('R'):\n",
    "    return wordnet.ADV\n",
    "  else:                    \n",
    "    return None\n",
    "\n",
    "def lemmatize_sentence(sentence):\n",
    "  nltk_tagged = nltk.pos_tag(nltk.word_tokenize(sentence))    \n",
    "  wn_tagged = map(lambda x: (x[0], nltk2wn_tag(x[1])), nltk_tagged)\n",
    "  res_words = []\n",
    "  for word, tag in wn_tagged:\n",
    "    if tag is None:                        \n",
    "      res_words.append(word)\n",
    "    else:\n",
    "      res_words.append(lemmatizer.lemmatize(word, tag))\n",
    "  return ' '.join(res_words)"
   ]
  },
  {
   "cell_type": "markdown",
   "metadata": {
    "colab_type": "text",
    "id": "VMvowK9dOs6Y"
   },
   "source": [
    "> Split function"
   ]
  },
  {
   "cell_type": "code",
   "execution_count": null,
   "metadata": {
    "colab": {
     "base_uri": "https://localhost:8080/",
     "height": 17
    },
    "colab_type": "code",
    "id": "oHUjc025l78T",
    "outputId": "407c0ede-5e0e-4545-fc32-010d2e9e0917"
   },
   "outputs": [
    {
     "data": {
      "text/html": [
       "\n",
       "    <style>\n",
       "        pre {\n",
       "            white-space: pre-wrap;\n",
       "        }\n",
       "    </style>\n",
       "  "
      ],
      "text/plain": [
       "<IPython.core.display.HTML object>"
      ]
     },
     "metadata": {
      "tags": []
     },
     "output_type": "display_data"
    },
    {
     "data": {
      "text/html": [
       "\n",
       "    <style>\n",
       "        pre {\n",
       "            white-space: pre-wrap;\n",
       "        }\n",
       "    </style>\n",
       "  "
      ],
      "text/plain": [
       "<IPython.core.display.HTML object>"
      ]
     },
     "metadata": {
      "tags": []
     },
     "output_type": "display_data"
    }
   ],
   "source": [
    "def split_into_sentences(text):\n",
    "  text = text.replace('\\n', ' ').replace('\\t', '')\n",
    "  text = ' '.join([word for word in text.split(' ') if word != ''])\n",
    "  text = text.replace('\\uf0b7', '').replace('\\x0c', '').replace('\\uf054', '').replace('•', '').replace('…', '').replace('“', '').replace('”', '').replace('\\uf0a7', '')\n",
    "  text = re.sub('\\([a-zA-Z]{1}\\)', '', text)\n",
    "  text = re.sub(prefixes, '\\\\1<prd>', text)\n",
    "  text = re.sub(suffixes + '[.]', '\\\\1<prd>', text)\n",
    "  text = re.sub('[.]' + alphabets, '<prd>\\\\1', text)\n",
    "  text = re.sub('([1-9a-zA-Z])[.]([1-9a-zA-Z])', '\\\\1<prd>\\\\2', text)\n",
    "  text = re.sub(alphabets + '[.]' + alphabets, '\\\\1<prd>\\\\2', text)\n",
    "  text = re.sub(alphabets + '[.]' + alphabets + '[.]' + alphabets, '\\\\1<prd>\\\\2<prd>\\\\3', text)\n",
    "  text = re.sub('\\.{2,}', '<prd>', text)\n",
    "  text = re.sub(websites, '<prd>\\\\1', text)\n",
    "  text = re.sub(starters, '<stop>\\\\1', text)\n",
    "  for acr in re.findall(acronyms, text): text = text.replace(acr, '<prd>'.join(acr.split('.')))\n",
    "  text = text.replace('.', '.<stop>').replace('!', '!<stop>').replace('?', '?<stop>').replace(';', ';<stop>')\n",
    "  text = text.replace('<prd>', '.')\n",
    "\n",
    "  sentences = text.split('<stop>')\n",
    "  sentences = [sent.strip() for sent in sentences]\n",
    "  sentences = [sent for sent in sentences if sent not in ['', ' ']]\n",
    "  sentences = [sent for sent in sentences if len(sent) > 1]\n",
    "  sentences = list(map(lambda sent: ' '.join([word for word in sent.split() if word.lower() not in stopwords.words('english')]), sentences))\n",
    "\n",
    "  sentences = [lemmatize_sentence(sent) for sent in sentences]\n",
    "  sentences = [sent.lower() for sent in sentences if sent != '']\n",
    "\n",
    "  return sentences"
   ]
  },
  {
   "cell_type": "markdown",
   "metadata": {
    "colab_type": "text",
    "id": "9kjKoEAH0t2Z"
   },
   "source": [
    "> Extracting sentences to a dataframe"
   ]
  },
  {
   "cell_type": "code",
   "execution_count": null,
   "metadata": {
    "colab": {
     "base_uri": "https://localhost:8080/",
     "height": 204
    },
    "colab_type": "code",
    "id": "GOPfNYIDUdFf",
    "outputId": "161d0804-212f-4580-9b16-830cbd76e83f"
   },
   "outputs": [
    {
     "data": {
      "text/html": [
       "\n",
       "    <style>\n",
       "        pre {\n",
       "            white-space: pre-wrap;\n",
       "        }\n",
       "    </style>\n",
       "  "
      ],
      "text/plain": [
       "<IPython.core.display.HTML object>"
      ]
     },
     "metadata": {
      "tags": []
     },
     "output_type": "display_data"
    },
    {
     "data": {
      "text/html": [
       "\n",
       "    <style>\n",
       "        pre {\n",
       "            white-space: pre-wrap;\n",
       "        }\n",
       "    </style>\n",
       "  "
      ],
      "text/plain": [
       "<IPython.core.display.HTML object>"
      ]
     },
     "metadata": {
      "tags": []
     },
     "output_type": "display_data"
    },
    {
     "data": {
      "text/html": [
       "<div>\n",
       "<style scoped>\n",
       "    .dataframe tbody tr th:only-of-type {\n",
       "        vertical-align: middle;\n",
       "    }\n",
       "\n",
       "    .dataframe tbody tr th {\n",
       "        vertical-align: top;\n",
       "    }\n",
       "\n",
       "    .dataframe thead th {\n",
       "        text-align: right;\n",
       "    }\n",
       "</style>\n",
       "<table border=\"1\" class=\"dataframe\">\n",
       "  <thead>\n",
       "    <tr style=\"text-align: right;\">\n",
       "      <th></th>\n",
       "      <th>Document</th>\n",
       "      <th>Sentence</th>\n",
       "    </tr>\n",
       "  </thead>\n",
       "  <tbody>\n",
       "    <tr>\n",
       "      <th>0</th>\n",
       "      <td>Job 1</td>\n",
       "      <td>job vacancy notice</td>\n",
       "    </tr>\n",
       "    <tr>\n",
       "      <th>1</th>\n",
       "      <td>Job 1</td>\n",
       "      <td>software development engineer – time metrology</td>\n",
       "    </tr>\n",
       "    <tr>\n",
       "      <th>2</th>\n",
       "      <td>Job 1</td>\n",
       "      <td>international bureau weights measures ( bipm )...</td>\n",
       "    </tr>\n",
       "    <tr>\n",
       "      <th>3</th>\n",
       "      <td>Job 1</td>\n",
       "      <td>bipm base sèvres , outskirts paris ( france ) ...</td>\n",
       "    </tr>\n",
       "    <tr>\n",
       "      <th>4</th>\n",
       "      <td>Job 1</td>\n",
       "      <td>information find www.bipm.org .</td>\n",
       "    </tr>\n",
       "  </tbody>\n",
       "</table>\n",
       "</div>"
      ],
      "text/plain": [
       "  Document                                           Sentence\n",
       "0    Job 1                                 job vacancy notice\n",
       "1    Job 1     software development engineer – time metrology\n",
       "2    Job 1  international bureau weights measures ( bipm )...\n",
       "3    Job 1  bipm base sèvres , outskirts paris ( france ) ...\n",
       "4    Job 1                    information find www.bipm.org ."
      ]
     },
     "execution_count": 67,
     "metadata": {
      "tags": []
     },
     "output_type": "execute_result"
    }
   ],
   "source": [
    "sentences = []\n",
    "docs = []\n",
    "for i in range(len(jobs)):\n",
    "    sent_doc = split_into_sentences(jobs[i])\n",
    "    sentences += sent_doc\n",
    "    for k in range(len(sent_doc)): docs.append('Job {}'.format(i + 1))\n",
    "\n",
    "df = pd.DataFrame()\n",
    "df['Document'] = docs\n",
    "df['Sentence'] = sentences\n",
    "\n",
    "df.head()"
   ]
  },
  {
   "cell_type": "markdown",
   "metadata": {
    "colab_type": "text",
    "id": "K0OeqB7a_Qwu"
   },
   "source": [
    "> Cleaning sentences"
   ]
  },
  {
   "cell_type": "code",
   "execution_count": null,
   "metadata": {
    "colab": {
     "base_uri": "https://localhost:8080/",
     "height": 204
    },
    "colab_type": "code",
    "id": "vj8arURB_T1Z",
    "outputId": "b441d4e9-12a7-4ccb-f6cf-cfca740d23b5"
   },
   "outputs": [
    {
     "data": {
      "text/html": [
       "\n",
       "    <style>\n",
       "        pre {\n",
       "            white-space: pre-wrap;\n",
       "        }\n",
       "    </style>\n",
       "  "
      ],
      "text/plain": [
       "<IPython.core.display.HTML object>"
      ]
     },
     "metadata": {
      "tags": []
     },
     "output_type": "display_data"
    },
    {
     "data": {
      "text/html": [
       "\n",
       "    <style>\n",
       "        pre {\n",
       "            white-space: pre-wrap;\n",
       "        }\n",
       "    </style>\n",
       "  "
      ],
      "text/plain": [
       "<IPython.core.display.HTML object>"
      ]
     },
     "metadata": {
      "tags": []
     },
     "output_type": "display_data"
    },
    {
     "data": {
      "text/html": [
       "<div>\n",
       "<style scoped>\n",
       "    .dataframe tbody tr th:only-of-type {\n",
       "        vertical-align: middle;\n",
       "    }\n",
       "\n",
       "    .dataframe tbody tr th {\n",
       "        vertical-align: top;\n",
       "    }\n",
       "\n",
       "    .dataframe thead th {\n",
       "        text-align: right;\n",
       "    }\n",
       "</style>\n",
       "<table border=\"1\" class=\"dataframe\">\n",
       "  <thead>\n",
       "    <tr style=\"text-align: right;\">\n",
       "      <th></th>\n",
       "      <th>Document</th>\n",
       "      <th>Sentence</th>\n",
       "    </tr>\n",
       "  </thead>\n",
       "  <tbody>\n",
       "    <tr>\n",
       "      <th>0</th>\n",
       "      <td>Job 1</td>\n",
       "      <td>job vacancy notice</td>\n",
       "    </tr>\n",
       "    <tr>\n",
       "      <th>1</th>\n",
       "      <td>Job 1</td>\n",
       "      <td>software development engineer – time metrology</td>\n",
       "    </tr>\n",
       "    <tr>\n",
       "      <th>2</th>\n",
       "      <td>Job 1</td>\n",
       "      <td>international bureau weights measures bipm int...</td>\n",
       "    </tr>\n",
       "    <tr>\n",
       "      <th>3</th>\n",
       "      <td>Job 1</td>\n",
       "      <td>bipm base sèvres outskirts paris france intern...</td>\n",
       "    </tr>\n",
       "    <tr>\n",
       "      <th>4</th>\n",
       "      <td>Job 1</td>\n",
       "      <td>information find www.bipm.org</td>\n",
       "    </tr>\n",
       "  </tbody>\n",
       "</table>\n",
       "</div>"
      ],
      "text/plain": [
       "  Document                                           Sentence\n",
       "0    Job 1                                 job vacancy notice\n",
       "1    Job 1     software development engineer – time metrology\n",
       "2    Job 1  international bureau weights measures bipm int...\n",
       "3    Job 1  bipm base sèvres outskirts paris france intern...\n",
       "4    Job 1                      information find www.bipm.org"
      ]
     },
     "execution_count": 68,
     "metadata": {
      "tags": []
     },
     "output_type": "execute_result"
    }
   ],
   "source": [
    "def clean_sentence(sentence):\n",
    "    sentence = re.sub('\\.([a-z0-9])', '<dot>\\\\1', sentence)\n",
    "    sentence = ' '.join([word for word in sentence.split() if word not in string.punctuation.replace('#', '').replace('@', '')])\n",
    "    sentence = sentence.replace('<dot>', '.')\n",
    "    if ' @ ' in sentence:\n",
    "        sentence = sentence.replace(' @ ', '@')\n",
    "    if ' ’ ' in sentence:\n",
    "        sentence = sentence.replace(' ’ ', '\\'')\n",
    "\n",
    "    return sentence\n",
    "\n",
    "df['Sentence'] = df['Sentence'].apply(clean_sentence)\n",
    "df.head()"
   ]
  },
  {
   "cell_type": "markdown",
   "metadata": {
    "colab_type": "text",
    "id": "LPrV4LGbccGC"
   },
   "source": [
    "> Tagging important chunks"
   ]
  },
  {
   "cell_type": "code",
   "execution_count": null,
   "metadata": {
    "colab": {
     "base_uri": "https://localhost:8080/",
     "height": 17
    },
    "colab_type": "code",
    "id": "5rkKFBdZBdtJ",
    "outputId": "9be37ec5-129f-48fc-e17f-af6af2d05245"
   },
   "outputs": [
    {
     "data": {
      "text/html": [
       "\n",
       "    <style>\n",
       "        pre {\n",
       "            white-space: pre-wrap;\n",
       "        }\n",
       "    </style>\n",
       "  "
      ],
      "text/plain": [
       "<IPython.core.display.HTML object>"
      ]
     },
     "metadata": {
      "tags": []
     },
     "output_type": "display_data"
    },
    {
     "data": {
      "text/html": [
       "\n",
       "    <style>\n",
       "        pre {\n",
       "            white-space: pre-wrap;\n",
       "        }\n",
       "    </style>\n",
       "  "
      ],
      "text/plain": [
       "<IPython.core.display.HTML object>"
      ]
     },
     "metadata": {
      "tags": []
     },
     "output_type": "display_data"
    }
   ],
   "source": [
    "skills = list(pd.read_table('skills.txt', sep = ',').columns)\n",
    "job_titles = list(pd.read_csv('job_titles.txt').columns)\n",
    "job_titles = [title.lower() for title in job_titles]\n",
    "contract_types = ['full-time', 'part-time', 'fixed-term', 'temporary', 'internship']\n",
    "degrees = ['associate degree', \"bachelor's degree\", \"master's degree\", 'doctoral degree']\n",
    "\n",
    "def tag_words(sentence):\n",
    "    URL = '[^@](((https?):\\/\\/)?(www.)[a-z0-9]+\\.[a-z]{2,})'\n",
    "    NUMBER = '\\s([1-9]{1,})'\n",
    "    EMAIL = '([a-zA-Z0-9_\\.+-]+@[a-zA-Z0-9-]+\\.[a-zA-Z0-9-\\.]+)'\n",
    "\n",
    "    #EMAIL\n",
    "    sentence = re.sub(EMAIL, '<email>\\\\1</email>', sentence)\n",
    "\n",
    "    # URL\n",
    "    sentence = re.sub(URL, ' <url>\\\\1</url>', sentence)\n",
    "\n",
    "    # JOB TITLES\n",
    "    sorted_list = sorted(job_titles, key = len)\n",
    "    sorted_list.reverse()\n",
    "    for title in sorted_list:\n",
    "        if title in sentence:\n",
    "            sentence = sentence.replace(title, ' <job_title>{}</job_title>'.format(title))\n",
    "            break\n",
    "    \n",
    "    # SKILLS\n",
    "    sentence = sentence.split()\n",
    "    sentence = list(map(lambda word: ' <skill>{}</skill>'.format(word) if word in skills else word, sentence))\n",
    "    sentence = ' '.join(sentence)\n",
    "\n",
    "    # COUNTRIES, CITIES, STATES\n",
    "    doc = nlp(sentence)\n",
    "    for ent in doc.ents:\n",
    "        if ent.label_ == 'GPE':\n",
    "            sentence = sentence.replace(ent.text, '<loc>{}</loc>'.format(ent.text))\n",
    "\n",
    "    # DATE\n",
    "    doc = nlp(sentence)\n",
    "    for ent in doc.ents:\n",
    "        if (ent.label_ == 'DATE') & ('<' not in ent.text) & ('>' not in ent.text):\n",
    "            sentence = sentence.replace(ent.text, ' <date>{}</date>'.format(ent.text))\n",
    "\n",
    "    # DEGREE\n",
    "    for degree in degrees:\n",
    "        if degree in sentence:\n",
    "            sentence = sentence.replace(degree, ' <degree>{}</degree>'.format(degree))\n",
    "            break\n",
    "\n",
    "    # COMPANY\n",
    "    doc = nlp(sentence)\n",
    "    for ent in doc.ents:\n",
    "        if ent.label_ == 'ORG':\n",
    "            sentence = sentence.replace(ent.text, '<company>{}</company>'.format(ent.text))\n",
    "\n",
    "    # CONTRACT_TYPE\n",
    "    sentence = sentence.split()\n",
    "    sentence = list(map(lambda word: ' <contract_type>{}</contract_type>'.format(word) if word in contract_types else word, sentence))\n",
    "    sentence = ' '.join(sentence)\n",
    "    \n",
    "    return sentence"
   ]
  },
  {
   "cell_type": "code",
   "execution_count": null,
   "metadata": {
    "colab": {
     "base_uri": "https://localhost:8080/",
     "height": 204
    },
    "colab_type": "code",
    "id": "gMwuWGi0jFdH",
    "outputId": "d0e5412b-1c83-46a3-eb7f-2703be9e0350"
   },
   "outputs": [
    {
     "data": {
      "text/html": [
       "\n",
       "    <style>\n",
       "        pre {\n",
       "            white-space: pre-wrap;\n",
       "        }\n",
       "    </style>\n",
       "  "
      ],
      "text/plain": [
       "<IPython.core.display.HTML object>"
      ]
     },
     "metadata": {
      "tags": []
     },
     "output_type": "display_data"
    },
    {
     "data": {
      "text/html": [
       "\n",
       "    <style>\n",
       "        pre {\n",
       "            white-space: pre-wrap;\n",
       "        }\n",
       "    </style>\n",
       "  "
      ],
      "text/plain": [
       "<IPython.core.display.HTML object>"
      ]
     },
     "metadata": {
      "tags": []
     },
     "output_type": "display_data"
    },
    {
     "data": {
      "text/html": [
       "<div>\n",
       "<style scoped>\n",
       "    .dataframe tbody tr th:only-of-type {\n",
       "        vertical-align: middle;\n",
       "    }\n",
       "\n",
       "    .dataframe tbody tr th {\n",
       "        vertical-align: top;\n",
       "    }\n",
       "\n",
       "    .dataframe thead th {\n",
       "        text-align: right;\n",
       "    }\n",
       "</style>\n",
       "<table border=\"1\" class=\"dataframe\">\n",
       "  <thead>\n",
       "    <tr style=\"text-align: right;\">\n",
       "      <th></th>\n",
       "      <th>Document</th>\n",
       "      <th>Sentence</th>\n",
       "    </tr>\n",
       "  </thead>\n",
       "  <tbody>\n",
       "    <tr>\n",
       "      <th>0</th>\n",
       "      <td>Job 1</td>\n",
       "      <td>job vacancy notice</td>\n",
       "    </tr>\n",
       "    <tr>\n",
       "      <th>1</th>\n",
       "      <td>Job 1</td>\n",
       "      <td>&lt;skill&gt;software&lt;/skill&gt; development engineer –...</td>\n",
       "    </tr>\n",
       "    <tr>\n",
       "      <th>2</th>\n",
       "      <td>Job 1</td>\n",
       "      <td>&lt;company&gt;international bureau weights measures...</td>\n",
       "    </tr>\n",
       "    <tr>\n",
       "      <th>3</th>\n",
       "      <td>Job 1</td>\n",
       "      <td>bipm base sèvres outskirts &lt;company&gt;paris fran...</td>\n",
       "    </tr>\n",
       "    <tr>\n",
       "      <th>4</th>\n",
       "      <td>Job 1</td>\n",
       "      <td>information find &lt;url&gt;www.bipm.org&lt;/url&gt;</td>\n",
       "    </tr>\n",
       "  </tbody>\n",
       "</table>\n",
       "</div>"
      ],
      "text/plain": [
       "  Document                                           Sentence\n",
       "0    Job 1                                 job vacancy notice\n",
       "1    Job 1  <skill>software</skill> development engineer –...\n",
       "2    Job 1  <company>international bureau weights measures...\n",
       "3    Job 1  bipm base sèvres outskirts <company>paris fran...\n",
       "4    Job 1           information find <url>www.bipm.org</url>"
      ]
     },
     "execution_count": 70,
     "metadata": {
      "tags": []
     },
     "output_type": "execute_result"
    }
   ],
   "source": [
    "df['Sentence'] = df['Sentence'].apply(tag_words)\n",
    "df.head()"
   ]
  },
  {
   "cell_type": "markdown",
   "metadata": {
    "colab_type": "text",
    "id": "5Xp3Lt-Hcia3"
   },
   "source": [
    "> Extracting tags"
   ]
  },
  {
   "cell_type": "code",
   "execution_count": null,
   "metadata": {
    "colab": {
     "base_uri": "https://localhost:8080/",
     "height": 17
    },
    "colab_type": "code",
    "id": "PHl3k-GFjfVS",
    "outputId": "30760bb7-0457-4395-9930-6914c91c251e"
   },
   "outputs": [
    {
     "data": {
      "text/html": [
       "\n",
       "    <style>\n",
       "        pre {\n",
       "            white-space: pre-wrap;\n",
       "        }\n",
       "    </style>\n",
       "  "
      ],
      "text/plain": [
       "<IPython.core.display.HTML object>"
      ]
     },
     "metadata": {
      "tags": []
     },
     "output_type": "display_data"
    },
    {
     "data": {
      "text/html": [
       "\n",
       "    <style>\n",
       "        pre {\n",
       "            white-space: pre-wrap;\n",
       "        }\n",
       "    </style>\n",
       "  "
      ],
      "text/plain": [
       "<IPython.core.display.HTML object>"
      ]
     },
     "metadata": {
      "tags": []
     },
     "output_type": "display_data"
    }
   ],
   "source": [
    "def extract_tag(tag, sentence):\n",
    "    elements = []\n",
    "    for element in sentence.split('{}>'.format(tag)):\n",
    "        if element.endswith('</'):\n",
    "            elements.append(element.replace('</', ''))\n",
    "    elements = [element for element in elements if element != '']\n",
    "    if len(elements) > 0: return set(elements)"
   ]
  },
  {
   "cell_type": "code",
   "execution_count": null,
   "metadata": {
    "colab": {
     "base_uri": "https://localhost:8080/",
     "height": 272
    },
    "colab_type": "code",
    "id": "k2EtaA-0l_Uk",
    "outputId": "0c5eac2f-d892-4a28-b594-8b18095b2902"
   },
   "outputs": [
    {
     "data": {
      "text/html": [
       "\n",
       "    <style>\n",
       "        pre {\n",
       "            white-space: pre-wrap;\n",
       "        }\n",
       "    </style>\n",
       "  "
      ],
      "text/plain": [
       "<IPython.core.display.HTML object>"
      ]
     },
     "metadata": {
      "tags": []
     },
     "output_type": "display_data"
    },
    {
     "data": {
      "text/html": [
       "\n",
       "    <style>\n",
       "        pre {\n",
       "            white-space: pre-wrap;\n",
       "        }\n",
       "    </style>\n",
       "  "
      ],
      "text/plain": [
       "<IPython.core.display.HTML object>"
      ]
     },
     "metadata": {
      "tags": []
     },
     "output_type": "display_data"
    },
    {
     "data": {
      "text/html": [
       "<div>\n",
       "<style scoped>\n",
       "    .dataframe tbody tr th:only-of-type {\n",
       "        vertical-align: middle;\n",
       "    }\n",
       "\n",
       "    .dataframe tbody tr th {\n",
       "        vertical-align: top;\n",
       "    }\n",
       "\n",
       "    .dataframe thead th {\n",
       "        text-align: right;\n",
       "    }\n",
       "</style>\n",
       "<table border=\"1\" class=\"dataframe\">\n",
       "  <thead>\n",
       "    <tr style=\"text-align: right;\">\n",
       "      <th></th>\n",
       "      <th>Document</th>\n",
       "      <th>Sentence</th>\n",
       "      <th>Email</th>\n",
       "      <th>URL</th>\n",
       "      <th>Job Title</th>\n",
       "      <th>Skills</th>\n",
       "      <th>Location</th>\n",
       "      <th>Company</th>\n",
       "      <th>Date</th>\n",
       "      <th>Degree</th>\n",
       "      <th>Contract Type</th>\n",
       "    </tr>\n",
       "  </thead>\n",
       "  <tbody>\n",
       "    <tr>\n",
       "      <th>0</th>\n",
       "      <td>Job 1</td>\n",
       "      <td>job vacancy notice</td>\n",
       "      <td>None</td>\n",
       "      <td>None</td>\n",
       "      <td>None</td>\n",
       "      <td>None</td>\n",
       "      <td>None</td>\n",
       "      <td>None</td>\n",
       "      <td>None</td>\n",
       "      <td>None</td>\n",
       "      <td>None</td>\n",
       "    </tr>\n",
       "    <tr>\n",
       "      <th>1</th>\n",
       "      <td>Job 1</td>\n",
       "      <td>&lt;skill&gt;software&lt;/skill&gt; development engineer –...</td>\n",
       "      <td>None</td>\n",
       "      <td>None</td>\n",
       "      <td>None</td>\n",
       "      <td>{software}</td>\n",
       "      <td>None</td>\n",
       "      <td>None</td>\n",
       "      <td>None</td>\n",
       "      <td>None</td>\n",
       "      <td>None</td>\n",
       "    </tr>\n",
       "    <tr>\n",
       "      <th>2</th>\n",
       "      <td>Job 1</td>\n",
       "      <td>&lt;company&gt;international bureau weights measures...</td>\n",
       "      <td>None</td>\n",
       "      <td>None</td>\n",
       "      <td>None</td>\n",
       "      <td>None</td>\n",
       "      <td>None</td>\n",
       "      <td>{international bureau weights measures bipm in...</td>\n",
       "      <td>None</td>\n",
       "      <td>None</td>\n",
       "      <td>None</td>\n",
       "    </tr>\n",
       "    <tr>\n",
       "      <th>3</th>\n",
       "      <td>Job 1</td>\n",
       "      <td>bipm base sèvres outskirts &lt;company&gt;paris fran...</td>\n",
       "      <td>None</td>\n",
       "      <td>None</td>\n",
       "      <td>None</td>\n",
       "      <td>None</td>\n",
       "      <td>None</td>\n",
       "      <td>{paris france international}</td>\n",
       "      <td>None</td>\n",
       "      <td>None</td>\n",
       "      <td>None</td>\n",
       "    </tr>\n",
       "    <tr>\n",
       "      <th>4</th>\n",
       "      <td>Job 1</td>\n",
       "      <td>information find &lt;url&gt;www.bipm.org&lt;/url&gt;</td>\n",
       "      <td>None</td>\n",
       "      <td>{www.bipm.org}</td>\n",
       "      <td>None</td>\n",
       "      <td>None</td>\n",
       "      <td>None</td>\n",
       "      <td>None</td>\n",
       "      <td>None</td>\n",
       "      <td>None</td>\n",
       "      <td>None</td>\n",
       "    </tr>\n",
       "  </tbody>\n",
       "</table>\n",
       "</div>"
      ],
      "text/plain": [
       "  Document  ... Contract Type\n",
       "0    Job 1  ...          None\n",
       "1    Job 1  ...          None\n",
       "2    Job 1  ...          None\n",
       "3    Job 1  ...          None\n",
       "4    Job 1  ...          None\n",
       "\n",
       "[5 rows x 11 columns]"
      ]
     },
     "execution_count": 72,
     "metadata": {
      "tags": []
     },
     "output_type": "execute_result"
    }
   ],
   "source": [
    "df['Email'] = [extract_tag('email', sent) for sent in df['Sentence'].values]\n",
    "df['URL'] = [extract_tag('url', sent) for sent in df['Sentence'].values]\n",
    "df['Job Title'] = [extract_tag('job_title', sent) for sent in df['Sentence'].values]\n",
    "df['Skills'] = [extract_tag('skill', sent) for sent in df['Sentence'].values]\n",
    "df['Location'] = [extract_tag('loc', sent) for sent in df['Sentence'].values]\n",
    "df['Company'] = [extract_tag('company', sent) for sent in df['Sentence'].values]\n",
    "df['Date'] = [extract_tag('date', sent) for sent in df['Sentence'].values]\n",
    "df['Degree'] = [extract_tag('degree', sent) for sent in df['Sentence'].values]\n",
    "df['Contract Type'] = [extract_tag('contract_type', sent) for sent in df['Sentence'].values]\n",
    "\n",
    "df.head()"
   ]
  },
  {
   "cell_type": "markdown",
   "metadata": {
    "colab_type": "text",
    "id": "zSRW28epcnHc"
   },
   "source": [
    "# Creating model dataframe"
   ]
  },
  {
   "cell_type": "code",
   "execution_count": null,
   "metadata": {
    "colab": {
     "base_uri": "https://localhost:8080/",
     "height": 204
    },
    "colab_type": "code",
    "id": "Gh0rO_uQT3-P",
    "outputId": "d915726c-8b55-4295-e4d1-3da6634e47cf"
   },
   "outputs": [
    {
     "data": {
      "text/html": [
       "\n",
       "    <style>\n",
       "        pre {\n",
       "            white-space: pre-wrap;\n",
       "        }\n",
       "    </style>\n",
       "  "
      ],
      "text/plain": [
       "<IPython.core.display.HTML object>"
      ]
     },
     "metadata": {
      "tags": []
     },
     "output_type": "display_data"
    },
    {
     "data": {
      "text/html": [
       "\n",
       "    <style>\n",
       "        pre {\n",
       "            white-space: pre-wrap;\n",
       "        }\n",
       "    </style>\n",
       "  "
      ],
      "text/plain": [
       "<IPython.core.display.HTML object>"
      ]
     },
     "metadata": {
      "tags": []
     },
     "output_type": "display_data"
    },
    {
     "data": {
      "text/html": [
       "<div>\n",
       "<style scoped>\n",
       "    .dataframe tbody tr th:only-of-type {\n",
       "        vertical-align: middle;\n",
       "    }\n",
       "\n",
       "    .dataframe tbody tr th {\n",
       "        vertical-align: top;\n",
       "    }\n",
       "\n",
       "    .dataframe thead th {\n",
       "        text-align: right;\n",
       "    }\n",
       "</style>\n",
       "<table border=\"1\" class=\"dataframe\">\n",
       "  <thead>\n",
       "    <tr style=\"text-align: right;\">\n",
       "      <th></th>\n",
       "      <th>Document</th>\n",
       "      <th>Sentence</th>\n",
       "      <th>Job Title</th>\n",
       "      <th>Skills</th>\n",
       "      <th>Location</th>\n",
       "      <th>Company</th>\n",
       "      <th>Job Description</th>\n",
       "    </tr>\n",
       "  </thead>\n",
       "  <tbody>\n",
       "    <tr>\n",
       "      <th>0</th>\n",
       "      <td>Job 1</td>\n",
       "      <td>job vacancy notice</td>\n",
       "      <td>0</td>\n",
       "      <td>0</td>\n",
       "      <td>0</td>\n",
       "      <td>0</td>\n",
       "      <td>0</td>\n",
       "    </tr>\n",
       "    <tr>\n",
       "      <th>1</th>\n",
       "      <td>Job 1</td>\n",
       "      <td>development engineer – time metrology</td>\n",
       "      <td>0</td>\n",
       "      <td>1</td>\n",
       "      <td>0</td>\n",
       "      <td>0</td>\n",
       "      <td>0</td>\n",
       "    </tr>\n",
       "    <tr>\n",
       "      <th>2</th>\n",
       "      <td>Job 1</td>\n",
       "      <td>whose mandate provide basis coherent system m...</td>\n",
       "      <td>0</td>\n",
       "      <td>0</td>\n",
       "      <td>0</td>\n",
       "      <td>1</td>\n",
       "      <td>0</td>\n",
       "    </tr>\n",
       "    <tr>\n",
       "      <th>3</th>\n",
       "      <td>Job 1</td>\n",
       "      <td>bipm base sèvres outskirts  staff 70</td>\n",
       "      <td>0</td>\n",
       "      <td>0</td>\n",
       "      <td>0</td>\n",
       "      <td>1</td>\n",
       "      <td>0</td>\n",
       "    </tr>\n",
       "    <tr>\n",
       "      <th>4</th>\n",
       "      <td>Job 1</td>\n",
       "      <td>information find</td>\n",
       "      <td>0</td>\n",
       "      <td>0</td>\n",
       "      <td>0</td>\n",
       "      <td>0</td>\n",
       "      <td>0</td>\n",
       "    </tr>\n",
       "  </tbody>\n",
       "</table>\n",
       "</div>"
      ],
      "text/plain": [
       "  Document  ... Job Description\n",
       "0    Job 1  ...               0\n",
       "1    Job 1  ...               0\n",
       "2    Job 1  ...               0\n",
       "3    Job 1  ...               0\n",
       "4    Job 1  ...               0\n",
       "\n",
       "[5 rows x 7 columns]"
      ]
     },
     "execution_count": 73,
     "metadata": {
      "tags": []
     },
     "output_type": "execute_result"
    }
   ],
   "source": [
    "df_model = df.copy()\n",
    "df_model.drop(columns = ['Email', 'URL', 'Date', 'Degree', 'Contract Type'], inplace = True)\n",
    "df_model['Job Title'] = df_model['Job Title'].apply(lambda x: 0 if x is None else 1)\n",
    "df_model['Skills'] = df_model['Skills'].apply(lambda x: 0 if x is None else 1)\n",
    "df_model['Location'] = df_model['Location'].apply(lambda x: 0 if x is None else 1)\n",
    "df_model['Company'] = df_model['Company'].apply(lambda x: 0 if x is None else 1)\n",
    "df_model['Sentence'] = df_model['Sentence'].str.replace('<.*>', '', regex = True)\n",
    "df_model['Job Description'] = 0\n",
    "\n",
    "df_model.head()"
   ]
  },
  {
   "cell_type": "code",
   "execution_count": null,
   "metadata": {
    "colab": {
     "base_uri": "https://localhost:8080/",
     "height": 204
    },
    "colab_type": "code",
    "id": "njdNzCPudd2R",
    "outputId": "36e6556c-9596-471a-9c38-834b43b4b035"
   },
   "outputs": [
    {
     "data": {
      "text/html": [
       "\n",
       "    <style>\n",
       "        pre {\n",
       "            white-space: pre-wrap;\n",
       "        }\n",
       "    </style>\n",
       "  "
      ],
      "text/plain": [
       "<IPython.core.display.HTML object>"
      ]
     },
     "metadata": {
      "tags": []
     },
     "output_type": "display_data"
    },
    {
     "data": {
      "text/html": [
       "\n",
       "    <style>\n",
       "        pre {\n",
       "            white-space: pre-wrap;\n",
       "        }\n",
       "    </style>\n",
       "  "
      ],
      "text/plain": [
       "<IPython.core.display.HTML object>"
      ]
     },
     "metadata": {
      "tags": []
     },
     "output_type": "display_data"
    },
    {
     "data": {
      "text/html": [
       "<div>\n",
       "<style scoped>\n",
       "    .dataframe tbody tr th:only-of-type {\n",
       "        vertical-align: middle;\n",
       "    }\n",
       "\n",
       "    .dataframe tbody tr th {\n",
       "        vertical-align: top;\n",
       "    }\n",
       "\n",
       "    .dataframe thead th {\n",
       "        text-align: right;\n",
       "    }\n",
       "</style>\n",
       "<table border=\"1\" class=\"dataframe\">\n",
       "  <thead>\n",
       "    <tr style=\"text-align: right;\">\n",
       "      <th></th>\n",
       "      <th>Document</th>\n",
       "      <th>Sentence</th>\n",
       "      <th>Job Title</th>\n",
       "      <th>Skills</th>\n",
       "      <th>Location</th>\n",
       "      <th>Company</th>\n",
       "      <th>Job Description</th>\n",
       "      <th>Tag</th>\n",
       "    </tr>\n",
       "  </thead>\n",
       "  <tbody>\n",
       "    <tr>\n",
       "      <th>0</th>\n",
       "      <td>Job 1</td>\n",
       "      <td>job vacancy notice</td>\n",
       "      <td>0</td>\n",
       "      <td>0</td>\n",
       "      <td>0</td>\n",
       "      <td>0</td>\n",
       "      <td>0</td>\n",
       "      <td>None</td>\n",
       "    </tr>\n",
       "    <tr>\n",
       "      <th>1</th>\n",
       "      <td>Job 1</td>\n",
       "      <td>development engineer – time metrology</td>\n",
       "      <td>0</td>\n",
       "      <td>1</td>\n",
       "      <td>0</td>\n",
       "      <td>0</td>\n",
       "      <td>0</td>\n",
       "      <td>skills</td>\n",
       "    </tr>\n",
       "    <tr>\n",
       "      <th>2</th>\n",
       "      <td>Job 1</td>\n",
       "      <td>whose mandate provide basis coherent system m...</td>\n",
       "      <td>0</td>\n",
       "      <td>0</td>\n",
       "      <td>0</td>\n",
       "      <td>1</td>\n",
       "      <td>0</td>\n",
       "      <td>company</td>\n",
       "    </tr>\n",
       "    <tr>\n",
       "      <th>3</th>\n",
       "      <td>Job 1</td>\n",
       "      <td>bipm base sèvres outskirts  staff 70</td>\n",
       "      <td>0</td>\n",
       "      <td>0</td>\n",
       "      <td>0</td>\n",
       "      <td>1</td>\n",
       "      <td>0</td>\n",
       "      <td>company</td>\n",
       "    </tr>\n",
       "    <tr>\n",
       "      <th>4</th>\n",
       "      <td>Job 1</td>\n",
       "      <td>information find</td>\n",
       "      <td>0</td>\n",
       "      <td>0</td>\n",
       "      <td>0</td>\n",
       "      <td>0</td>\n",
       "      <td>0</td>\n",
       "      <td>None</td>\n",
       "    </tr>\n",
       "  </tbody>\n",
       "</table>\n",
       "</div>"
      ],
      "text/plain": [
       "  Document  ...      Tag\n",
       "0    Job 1  ...     None\n",
       "1    Job 1  ...   skills\n",
       "2    Job 1  ...  company\n",
       "3    Job 1  ...  company\n",
       "4    Job 1  ...     None\n",
       "\n",
       "[5 rows x 8 columns]"
      ]
     },
     "execution_count": 74,
     "metadata": {
      "tags": []
     },
     "output_type": "execute_result"
    }
   ],
   "source": [
    "df_model['Tag'] = [df_model.iloc[i, 2]*'jobtitle/' + \n",
    "                   df_model.iloc[i, 3]*'skills/' + \n",
    "                   df_model.iloc[i, 4]*'joblocation_address/' + \n",
    "                   df_model.iloc[i, 5]*'company/' + \n",
    "                   df_model.iloc[i, 6]*'jobdescription/' for i in range(df_model.shape[0])]\n",
    "\n",
    "df_model['Tag'] = df_model['Tag'].apply(lambda x: x.split('/')[0])\n",
    "df_model['Tag'] = df_model['Tag'].apply(lambda x: None if x == '' else x)\n",
    "\n",
    "df_model.head()"
   ]
  },
  {
   "cell_type": "code",
   "execution_count": null,
   "metadata": {
    "colab": {
     "base_uri": "https://localhost:8080/",
     "height": 68
    },
    "colab_type": "code",
    "id": "UFDe2z2LhZau",
    "outputId": "8dd7460c-5dc6-4ad0-f665-3bb4486248cb"
   },
   "outputs": [
    {
     "data": {
      "text/html": [
       "\n",
       "    <style>\n",
       "        pre {\n",
       "            white-space: pre-wrap;\n",
       "        }\n",
       "    </style>\n",
       "  "
      ],
      "text/plain": [
       "<IPython.core.display.HTML object>"
      ]
     },
     "metadata": {
      "tags": []
     },
     "output_type": "display_data"
    },
    {
     "data": {
      "text/html": [
       "\n",
       "    <style>\n",
       "        pre {\n",
       "            white-space: pre-wrap;\n",
       "        }\n",
       "    </style>\n",
       "  "
      ],
      "text/plain": [
       "<IPython.core.display.HTML object>"
      ]
     },
     "metadata": {
      "tags": []
     },
     "output_type": "display_data"
    },
    {
     "name": "stdout",
     "output_type": "stream",
     "text": [
      "None : 6418\n",
      "\n",
      "Shape : (11613, 8)\n"
     ]
    }
   ],
   "source": [
    "print('None : ', end = '')\n",
    "print(df_model['Tag'].isna().sum())\n",
    "print()\n",
    "print('Shape : ', end = '')\n",
    "print(df_model.shape)"
   ]
  },
  {
   "cell_type": "code",
   "execution_count": null,
   "metadata": {
    "colab": {
     "base_uri": "https://localhost:8080/",
     "height": 204
    },
    "colab_type": "code",
    "id": "RvKmBi_diW9V",
    "outputId": "54c4cb80-cf9b-466f-a144-a9bb0b520811"
   },
   "outputs": [
    {
     "data": {
      "text/html": [
       "\n",
       "    <style>\n",
       "        pre {\n",
       "            white-space: pre-wrap;\n",
       "        }\n",
       "    </style>\n",
       "  "
      ],
      "text/plain": [
       "<IPython.core.display.HTML object>"
      ]
     },
     "metadata": {
      "tags": []
     },
     "output_type": "display_data"
    },
    {
     "data": {
      "text/html": [
       "\n",
       "    <style>\n",
       "        pre {\n",
       "            white-space: pre-wrap;\n",
       "        }\n",
       "    </style>\n",
       "  "
      ],
      "text/plain": [
       "<IPython.core.display.HTML object>"
      ]
     },
     "metadata": {
      "tags": []
     },
     "output_type": "display_data"
    },
    {
     "data": {
      "text/html": [
       "<div>\n",
       "<style scoped>\n",
       "    .dataframe tbody tr th:only-of-type {\n",
       "        vertical-align: middle;\n",
       "    }\n",
       "\n",
       "    .dataframe tbody tr th {\n",
       "        vertical-align: top;\n",
       "    }\n",
       "\n",
       "    .dataframe thead th {\n",
       "        text-align: right;\n",
       "    }\n",
       "</style>\n",
       "<table border=\"1\" class=\"dataframe\">\n",
       "  <thead>\n",
       "    <tr style=\"text-align: right;\">\n",
       "      <th></th>\n",
       "      <th>Sentence</th>\n",
       "      <th>Tag</th>\n",
       "    </tr>\n",
       "  </thead>\n",
       "  <tbody>\n",
       "    <tr>\n",
       "      <th>1</th>\n",
       "      <td>development engineer – time metrology</td>\n",
       "      <td>skills</td>\n",
       "    </tr>\n",
       "    <tr>\n",
       "      <th>2</th>\n",
       "      <td>whose mandate provide basis coherent system m...</td>\n",
       "      <td>company</td>\n",
       "    </tr>\n",
       "    <tr>\n",
       "      <th>3</th>\n",
       "      <td>bipm base sèvres outskirts  staff 70</td>\n",
       "      <td>company</td>\n",
       "    </tr>\n",
       "    <tr>\n",
       "      <th>5</th>\n",
       "      <td></td>\n",
       "      <td>skills</td>\n",
       "    </tr>\n",
       "    <tr>\n",
       "      <th>7</th>\n",
       "      <td></td>\n",
       "      <td>skills</td>\n",
       "    </tr>\n",
       "  </tbody>\n",
       "</table>\n",
       "</div>"
      ],
      "text/plain": [
       "                                            Sentence      Tag\n",
       "1              development engineer – time metrology   skills\n",
       "2   whose mandate provide basis coherent system m...  company\n",
       "3               bipm base sèvres outskirts  staff 70  company\n",
       "5                                                      skills\n",
       "7                                                      skills"
      ]
     },
     "execution_count": 76,
     "metadata": {
      "tags": []
     },
     "output_type": "execute_result"
    }
   ],
   "source": [
    "df_dropna = df_model.dropna()[['Sentence', 'Tag']]\n",
    "df_dropna.head()"
   ]
  },
  {
   "cell_type": "code",
   "execution_count": null,
   "metadata": {
    "colab": {
     "base_uri": "https://localhost:8080/",
     "height": 204
    },
    "colab_type": "code",
    "id": "nlL4SalNkQFq",
    "outputId": "13c257a3-3c9a-4817-950b-07776d87f182"
   },
   "outputs": [
    {
     "data": {
      "text/html": [
       "\n",
       "    <style>\n",
       "        pre {\n",
       "            white-space: pre-wrap;\n",
       "        }\n",
       "    </style>\n",
       "  "
      ],
      "text/plain": [
       "<IPython.core.display.HTML object>"
      ]
     },
     "metadata": {
      "tags": []
     },
     "output_type": "display_data"
    },
    {
     "data": {
      "text/html": [
       "\n",
       "    <style>\n",
       "        pre {\n",
       "            white-space: pre-wrap;\n",
       "        }\n",
       "    </style>\n",
       "  "
      ],
      "text/plain": [
       "<IPython.core.display.HTML object>"
      ]
     },
     "metadata": {
      "tags": []
     },
     "output_type": "display_data"
    },
    {
     "data": {
      "text/html": [
       "<div>\n",
       "<style scoped>\n",
       "    .dataframe tbody tr th:only-of-type {\n",
       "        vertical-align: middle;\n",
       "    }\n",
       "\n",
       "    .dataframe tbody tr th {\n",
       "        vertical-align: top;\n",
       "    }\n",
       "\n",
       "    .dataframe thead th {\n",
       "        text-align: right;\n",
       "    }\n",
       "</style>\n",
       "<table border=\"1\" class=\"dataframe\">\n",
       "  <thead>\n",
       "    <tr style=\"text-align: right;\">\n",
       "      <th></th>\n",
       "      <th>Sentence</th>\n",
       "      <th>Tag</th>\n",
       "    </tr>\n",
       "  </thead>\n",
       "  <tbody>\n",
       "    <tr>\n",
       "      <th>1</th>\n",
       "      <td>development engineer – time metrology</td>\n",
       "      <td>skills</td>\n",
       "    </tr>\n",
       "    <tr>\n",
       "      <th>2</th>\n",
       "      <td>whose mandate provide basis coherent system m...</td>\n",
       "      <td>company</td>\n",
       "    </tr>\n",
       "    <tr>\n",
       "      <th>3</th>\n",
       "      <td>bipm base sèvres outskirts  staff 70</td>\n",
       "      <td>company</td>\n",
       "    </tr>\n",
       "    <tr>\n",
       "      <th>9</th>\n",
       "      <td>laboratory equip characterization gnss time t...</td>\n",
       "      <td>skills</td>\n",
       "    </tr>\n",
       "    <tr>\n",
       "      <th>10</th>\n",
       "      <td>principal duty responsibility reporting direct...</td>\n",
       "      <td>skills</td>\n",
       "    </tr>\n",
       "  </tbody>\n",
       "</table>\n",
       "</div>"
      ],
      "text/plain": [
       "                                             Sentence      Tag\n",
       "1               development engineer – time metrology   skills\n",
       "2    whose mandate provide basis coherent system m...  company\n",
       "3                bipm base sèvres outskirts  staff 70  company\n",
       "9    laboratory equip characterization gnss time t...   skills\n",
       "10  principal duty responsibility reporting direct...   skills"
      ]
     },
     "execution_count": 77,
     "metadata": {
      "tags": []
     },
     "output_type": "execute_result"
    }
   ],
   "source": [
    "df_dropna['Sentence'] = df_dropna['Sentence'].apply(lambda sent: sent if sent != '' else None)\n",
    "df_dropna = df_dropna.dropna()\n",
    "\n",
    "df_dropna.head()"
   ]
  },
  {
   "cell_type": "code",
   "execution_count": null,
   "metadata": {
    "colab": {
     "base_uri": "https://localhost:8080/",
     "height": 17
    },
    "colab_type": "code",
    "id": "YVaemVpElu-A",
    "outputId": "5847441a-88e8-4df8-90d8-4cc5028fa070"
   },
   "outputs": [
    {
     "data": {
      "text/html": [
       "\n",
       "    <style>\n",
       "        pre {\n",
       "            white-space: pre-wrap;\n",
       "        }\n",
       "    </style>\n",
       "  "
      ],
      "text/plain": [
       "<IPython.core.display.HTML object>"
      ]
     },
     "metadata": {
      "tags": []
     },
     "output_type": "display_data"
    },
    {
     "data": {
      "text/html": [
       "\n",
       "    <style>\n",
       "        pre {\n",
       "            white-space: pre-wrap;\n",
       "        }\n",
       "    </style>\n",
       "  "
      ],
      "text/plain": [
       "<IPython.core.display.HTML object>"
      ]
     },
     "metadata": {
      "tags": []
     },
     "output_type": "display_data"
    }
   ],
   "source": [
    "df_dropna.set_index('Sentence').to_csv('df_dropna.csv')"
   ]
  }
 ],
 "metadata": {
  "colab": {
   "collapsed_sections": [],
   "name": "Projet_ML",
   "provenance": []
  },
  "kernelspec": {
   "display_name": "Python 3",
   "language": "python",
   "name": "python3"
  },
  "language_info": {
   "codemirror_mode": {
    "name": "ipython",
    "version": 3
   },
   "file_extension": ".py",
   "mimetype": "text/x-python",
   "name": "python",
   "nbconvert_exporter": "python",
   "pygments_lexer": "ipython3",
   "version": "3.6.9"
  }
 },
 "nbformat": 4,
 "nbformat_minor": 4
}
