{
  "nbformat": 4,
  "nbformat_minor": 0,
  "metadata": {
    "colab": {
      "name": "NLP.ipynb",
      "provenance": [],
      "collapsed_sections": []
    },
    "kernelspec": {
      "name": "python3",
      "display_name": "Python 3"
    }
  },
  "cells": [
    {
      "cell_type": "code",
      "metadata": {
        "id": "dqap_mn8gqhY",
        "colab_type": "code",
        "outputId": "4ad61ebc-2a71-49aa-8826-b50e487389fe",
        "colab": {
          "base_uri": "https://localhost:8080/",
          "height": 204
        }
      },
      "source": [
        "pip install python-docx"
      ],
      "execution_count": 1,
      "outputs": [
        {
          "output_type": "stream",
          "text": [
            "Collecting python-docx\n",
            "\u001b[?25l  Downloading https://files.pythonhosted.org/packages/e4/83/c66a1934ed5ed8ab1dbb9931f1779079f8bca0f6bbc5793c06c4b5e7d671/python-docx-0.8.10.tar.gz (5.5MB)\n",
            "\u001b[K     |████████████████████████████████| 5.5MB 4.4MB/s \n",
            "\u001b[?25hRequirement already satisfied: lxml>=2.3.2 in /usr/local/lib/python3.6/dist-packages (from python-docx) (4.2.6)\n",
            "Building wheels for collected packages: python-docx\n",
            "  Building wheel for python-docx (setup.py) ... \u001b[?25l\u001b[?25hdone\n",
            "  Created wheel for python-docx: filename=python_docx-0.8.10-cp36-none-any.whl size=184491 sha256=5962e1e616189f3af3071ea4e6c89c1456dcc4369e2004d4a1a2953e9a3b2da4\n",
            "  Stored in directory: /root/.cache/pip/wheels/18/0b/a0/1dd62ff812c857c9e487f27d80d53d2b40531bec1acecfa47b\n",
            "Successfully built python-docx\n",
            "Installing collected packages: python-docx\n",
            "Successfully installed python-docx-0.8.10\n"
          ],
          "name": "stdout"
        }
      ]
    },
    {
      "cell_type": "markdown",
      "metadata": {
        "id": "Kyr1BM3zpLBy",
        "colab_type": "text"
      },
      "source": [
        "<hr>"
      ]
    },
    {
      "cell_type": "code",
      "metadata": {
        "id": "WjnnTA7IpQQM",
        "colab_type": "code",
        "colab": {}
      },
      "source": [
        "import pandas as pd\n",
        "import numpy as np\n",
        "import docx\n",
        "import unicodedata\n",
        "import os\n",
        "from nltk.corpus import stopwords \n",
        "from nltk.tokenize import word_tokenize"
      ],
      "execution_count": 0,
      "outputs": []
    },
    {
      "cell_type": "code",
      "metadata": {
        "id": "5iwpaoXkpzLz",
        "colab_type": "code",
        "colab": {}
      },
      "source": [
        "def getDocx(filename):\n",
        "    doc = docx.Document(filename)\n",
        "    fullText = []\n",
        "    for para in doc.paragraphs:\n",
        "        fullText.append(para.text)\n",
        "    return ' '.join(fullText)"
      ],
      "execution_count": 0,
      "outputs": []
    },
    {
      "cell_type": "code",
      "metadata": {
        "id": "tOnx9cWbq0qm",
        "colab_type": "code",
        "colab": {}
      },
      "source": [
        "def list_text(count_files,list_text):\n",
        "    for i in range(count_files):\n",
        "        new_str=unicodedata.normalize(\"NFKD\",getDocx(str(i+1)+\".docx\"))\n",
        "        new_str=new_str.lower()\n",
        "        list_text.append(new_str)\n",
        "    return list_text   "
      ],
      "execution_count": 0,
      "outputs": []
    },
    {
      "cell_type": "code",
      "metadata": {
        "id": "SM2tZPAfrcem",
        "colab_type": "code",
        "colab": {}
      },
      "source": [
        "all_offres=[]\n",
        "all_offres=list_docx(11,all_offres)"
      ],
      "execution_count": 0,
      "outputs": []
    },
    {
      "cell_type": "code",
      "metadata": {
        "id": "xEsqgMTR-wkJ",
        "colab_type": "code",
        "outputId": "e52e7c17-7d1a-4af8-a94b-fcd70e907228",
        "colab": {
          "base_uri": "https://localhost:8080/",
          "height": 224
        }
      },
      "source": [
        "all_offres"
      ],
      "execution_count": 11,
      "outputs": [
        {
          "output_type": "execute_result",
          "data": {
            "text/plain": [
              "['3d graphics software engineer   delair delair is one of the world’s most experienced provider of drone-based solutions combining its high performance, long range uav hardware with sophisticated analytics technology and operational services. we enable enterprises to monitor and digitize their physical assets from the air and turn the collected data into valuable business insights. our solutions are used globally by customers in industries such as utilities, construction, agriculture, transportation, mining and oil & gas.  by joining delair, you will participate in what is broadly recognized as the biggest technological paradigm shift of our generation: the digitization of the physical world. the combination of drones, cloud-based services, ai (artificial intelligence) and machine learning, makes delair a pioneer and leader in shaping tomorrow’s technology landscape. it is in technical excellence and perpetual innovation process that we recognize ourselves. this is why we encourage pioneering ideas and incent our teams to develop their creativity. as a young, energetic and highly motivated team, we work in a stimulating and pleasant working environment. dedication and innovation are rewarding and rewarded, giving you a unique opportunity to gain valuable and challenging experience in a rapidly growing business with passionate and easy-going enthusiastic people.  job description  our cloud platform ingests large amounts of aerial images as raw material to produce maps, 3d models and business analysis. we work hard to provide our clients with powerful tools to access their data quickly and interact with them in real-time. help us go further in this task.  your responsibilities design and maintain software to ingest and serve large point clouds and 3d models in fast and efficient manner. technical lead for all aspects regarding massive models processing, level of detail generation, texture compression, mesh simplification and compression techniques, real-time rendering, and the application of spatial data structures to create optimized 3d content.  the profile qualifications  ms in computer science or related discipline solid software engineering skills (c++ / python) ability to understand mathematical concepts such as computational geometry and 3d rendering experience with rendering technologies such as webgl experience working with geospatial data excellent debugging and optimization skills  pluses experience working with gdal and other osgeo librairies familiarity with front-end libraries: cesium, three.js, ... good understanding of cad tools, 3d design, 3d user interfaces experience working with 3d data (3d models, point clouds) experience with analysis of satellite, aerial, or multispectral imagery   mindset you can operate effectively at a fast paced company and embrace change you’re a self-starter        \\t                                                   \\t\\t\\t\\t                                \\t',\n",
              " 'data scientist london, uk  description who we are: raven science is an early stage start-up that span out of city, university of london to commercialise raven. raven is a software designed to assist human moderators to review and classify extremist videos. raven makes use of machine learning and object recognition algorithms trained and tested with a dataset of thousands of videos. raven grew out of a research project and is now at an mvp stage. following 18 months of market research, partnership building and mvp development we are now in a position to recruit our first employees. the primary goal is to set out the grounds to bring raven to the market and work on its continuous development and improvements.  your role: the main job responsibility is to carry out experiments to verify and improve accuracy of deep machine learning algorithms such as convolutional neural networks. other responsibilities will be to work with other project members on object recognition/segmentation, audio classification, and writing python code for machine learning.  requirements in order to qualify for the role, you should fulfil the following requirements: - msc or phd in machine learning, computer vision, or a relevant computer science discipline and/or commercial experience working in computer vision, machine/deep learning. - hands on experience using machine learning and computer vision to solve real-world problems. - good programming skills in python. - comfortable using deep/machine learning libraries (e.g., tensorflow, pytorch, keras, opencv, scikit-learn). - experience in managing projects with large datasets. - a problem solver and analytical thinker;  - don’t accept the status quo and are always looking for creative solutions.  it would be a bonus if you had: contributions to open-source projects prior commercial experience, particularly if this involved client-facing work or project management  benefits join a start-up in its early stage be a part of the team helping to deliver the benefits of ai for safer society sharpen your technical skills on challenging projects engage in motivating work have ownership of your role and enjoy the impact you create work in an environment that is extremely supportive for anyone who’s keen to develop and improve ',\n",
              " 'erp test supervisors  department: \\terp programme reports to: \\ttest lead grade:\\t \\tband h /spa 11 allowances:\\t date: \\t\\t  job number: \\t      context  the role is part of the tri force testing team and responsible for providing programme support services across the tri-force erp transformational change programme and specifically the testing workstream. the role will work for and under the direction of the tri-force erp programme test manager.  the testing supervisor will be responsible for the day to day operation of the programme test plan and will ensure that the key programme and project management deliverables – definitions, plans, organisation diagrams, progress reports, issue and risk logs. the testing supervisor will deputise for the test manager as required.  job purpose  the post holder will be responsible for supervising and co-ordinating force involvement in planning, preparation, execution and reporting of testing for the erp programme.  key accountabilities  establish programme testing facilities and the services it will provide. assist the programme test manager, programme managers and project/work stream teams in; publishing project testing plans, ensure realistic, baselined test plans are established consistently across the programme, issues/risks are centrally/consistently reported across the programme, maintain up to date status of all relevant programme artefacts incl. version control, manage acceptance of programme deliverables as per published raci and produce periodic status report manage and administer the programme testing folders and sharepoint sites. provide ad hoc programme and project support and administration services as required. co-ordinate user test preparation, including; assurance of required test coverage (cycles and scenarios), confirm/monitor detailed test phase entry/exit criteria, assure test cases/scripts for user testing, plan for tester participation and logistics e.g. creation of test labs and/or remote testing access and co-ordinate with kpmg on test data definition and generation for user testing. co-ordinate user test execution, including ensuring testers are available to test when required, have the required system access, and know the processes to follow. monitor defect management process to ensure effective logging, triaging and re-testing of defects. provide guidance and support as required to ssp/tvp personnel with regard to erp testing activities. maintain and apply knowledge of technology which is used in the testing activities. input resource and cost estimates for erp testing activities. have knowledge of technology which is used within ssp / tvp police forces and apply this knowledge to the testing process, along with legislative and industry best practice guidelines. continuously identify improvements to the testing process and associated documentation. knowledge, skills and experience  it is essential that the post holder: has excellent organisational and time management skills to enable the post holder to co-ordinate testing activities to agreed quality and timescales has excellent verbal and written communication skills to enable the post holder to liaise with non-technical force personnel, and communicate progress to stakeholders has analytical problem solving skills it is desirable that the post holder:  has an awareness of the testing activities required to deliver a complex it programme. has an awareness of the business processes and areas which are in scope of the erp programme: finance, hr, l&d, payroll, fleet, duties  job requirements the post holder must be in possession of a current full uk driving licence and be able to travel across surrey and sussex. the post holder must be willing to undertake a driving assessment in order to be able to drive unidentifiable police vehicles. the postholder will be required to work from ssp / tvp sites and therefore will be expected to travel to locations across counties as part of this role.   \\norganisational fit    key relationships  the post holder’s responsibilities entail interaction with the following stakeholders. erp programme team erp programme stakeholders external consultants ssp and tvp business and technical teams other forces, pccs other external and third-party organisations       the post holder should note that some or all of the duties and responsibilities detailed in this job profile require compliance with nationally agreed operating rules for accessing pnc and other information systems. pnc code of connections volume 1 (version 2.1) data protection act 1998 computer misuse act 1990 official secrets act 1989',\n",
              " \"   job description for java developer  ideal candidate will aid in designing, developing, and implementing web-based java applications to support business requirements. will be expected to be knowledgeable of agile methodology, create design documents, and be skilled in coding and testing. resolve technical issues through debugging, research, and investigation. requires a bachelor's degree in area of specialty. will be expected to function under minimal supervision but also work well in a group to meet strict deadlines.  looking for 1 to 3 years of related experience. gain exposure to some of the complex tasks within the job function and new technologies.  motivation is the key!  required skills:  java coding experience basic understanding of web applications experience with version control software willing to learn outside area of expertise  additional skills that are a plus spring familiarization tomcat familiarization any javascript coding any mobile development android or ios linux user   zoccam is an innovative software company that facilitates the delivery of payments and documents using mobile technologies. for more information, visit www.zoccam.com, and join us at fb.com/zoccamre and twitter.com/zoccamre.   contact: denis j. alexander vp products and  business development  5950 berkshire lane, suite 1200 dallas, texas 75225 office: 214.247.6500 email:  \",\n",
              " ' classification title code/title: web applications developer ii  exempt status: exempt \\t\\t*exemption may be subject to the applicable salary requirements from the department of labor  pay grade: 69   job summary:  plans and develops new and current web functionality and applications. provides support and maintenance on the new and current applications. gathers and analyzes requirements from university departments, faculty, and staff. ensures all web functions are accessibility compliant. incorporates responsive web design and technology into all site development. manages web development using revision control software.   essential duties and responsibilities  plans and develops new web functionality/applications: gathers and analyzes requirements from university departments, faculty, and staff; develops locally-created tools that facilitate the use of the university website, including plan, research, code, test, and deploy; provides support and maintenance on the new applications; serves as point for new application and/or update launches; ensures all new web functions are accessibility compliant; incorporates responsive web design and technology into all site development  maintains current web functionality/applications: corrects arising issues within web functionality/applications as needed; enhances web functionality/applications through regular communication with university personnel; provides support and maintenance on all current functionality/applications; periodically audits current web functions to ensure accessibility compliance; performs debugging as necessary; manages web development using revision control software  researches and recommends emerging application development technologies and tools for possible implementation in web services projects*  provides instruction and troubleshooting to faculty, staff, and students; performs usability and user-experience development and testing    this document represents the major duties, responsibilities, and authorities of this job, and is not intended to be a complete list of all tasks and functions. other duties may be assigned. additional responsibilities   minimum requirements  education –bachelor’s degree in computer information systems, computer science, or closely related field, or, an equivalent combination of education, training, and experience;  experience – three years of experience in web development/programming with relational databases to produce dynamic web-based applications. experience in consulting and/or strategy of web development/programming and in responsive web development.  knowledge, skills, abilities experience with asp/asp.net (or similar language), sql server (or similar), ms server 2008/iis 7, javascript, ajax, jquery, json, xml, html, css, scss. experience with debugging web including chrome/android and mobile safari  registration, certification, or licensure   supervision received/given   works under general supervision and generally does not supervise others.   other requirements  *  ',\n",
              " 'embedded software engineer job description template  overview  embedded software is a software that is written to ensure the smooth functioning of a specially designed hardware. this type of embedded software is used in several different things like cars, toys, security systems, television, robots, etc. it is also particularly useful in missiles, airplanes, and other systems and processes, where controlling forms a crucial part for the operation of a particular product. thus, embedded software engineer responsibilities play a vital role in our daily lives as well as help us in advancing. job duties design and implement software of embedded devices and systems from requirements to production and commercial deployment design, develop, code, test and debug system software review code and design analyse and enhance efficiency, stability and scalability of system resources integrate and validate new product designs support software qa and optimise i/o performance provide post production support interface with hardware design and development assess third party and open source software skills proven working experience in software engineering bs degree in computer science or engineering experience in hands-on development and troubleshooting on embedded targets solid programming experience in c or c++ proven experience in embedded systems design with preemptive, multitasking real-time operating systems familiarity with software configuration management tools, defect tracking tools, and peer review excellent knowledge of os coding techniques, ip protocols, interfaces and hardware subsystems adequate knowledge of reading schematics and data sheets for components strong documentation and writing skills',\n",
              " ' we change the lives of millions of people by delivering world-class learning experiences via our  and  products.   this is only the beginning, as our vision is to unlock learning potential in everything the bbc does, making learning feel effortless by waking and sustaining natural curiosity for audiences, with connected services built around world-class bbc content.    alongside and , we are responsible for delivering responsive digital experiences for other bbc properties such as , ,  and .  make no mistake, we are committed to developing ground-breaking products that push the boundaries for audiences – and challenge the creative, technical and collaborative skills of our people.  in joining our team you will commit to our journey ahead and in return you will be given the opportunity to make a real difference to the bbc\\'s online mission.  learning, developing and sparking curiosity is part our culture, so you will be joining a team who really care about you and the development of your technical skills, career aspirations and contribution to our great team culture.  we build our products using continuous delivery techniques on aws with a strong focus on javascript, rest based services, html5, css3 and fully responsive web solutions across devices with a modern front-end pipeline.  we have fully automated build pipelines deploying multiple times a day and really focused on great agile, bdd and tdd practices.   we are looking for superb and enthusiastic web developer who will push the boundaries to not just on the engineering the best quality but also re-engineering our approach to building software.  we expect you to have a love and passion for web development, new technology and have a solid understanding of web technologies.   essential skills & experience proficient in writing robust web software that works really well, is fast under load and works cross-browser & devices. understand how web sites work starting at the request through to the response. proficient in writing good quality object-oriented code using php and javascript. proficient with html 5, ajax, jquery, bootsrapping, xhtml, http and xml. understanding of aws and continuous delivery experience. proficient with styling and apply design to web pages using css including the use of css3 techniques. demonstrable competence in one or more mainstream development frameworks and design patterns for example mvc. strong understanding of web services (e.g. restful services), including the ability to programmatically interact with data formats that may include xml, json and rdf. experience with the design and execution effective functional tests. experience using continuous integration as an integral part of a project. understanding of major browsers and browser development tools.  working knowledge of major operating systems, including windows, osx and linux.  \\n key responsibilities build, design and deliver high quality, high volume, high availability and high performance solutions in line with guidance and best practices of the department. deliver solutions through the application of bdd, tdd and pair programming. collaborate with the team and other stakeholders to achieve successful delivery of high quality software products. design and develop reusable libraries, apis and code that are easy to maintain, understand and re-use. learn new technologies and keep abreast of existing technologies and be able to apply these to a variety of projects as applicable  work with test and operations teams to troubleshoot and resolve issues throughout the life cycle. provide time and resource estimates to assist in the planning of projects. work with 3rd party (\"indies\") where necessary offering direction, support and documentation. write and implement acceptance criteria and unit tests including automation test cases that verify functional and non-functional requirements of a feature.  contribute to the evolution of best practices of the department. take a view of the product to ensure delivery meets audience ambitions. write, review and take responsibility for clear, concise and comprehensive technical documentation. devops and supporting the live product.  core competencies ',\n",
              " \"whirldata labs private limited headquartered in fremont, ca, united states and with a development centre in chennai, provides intelligent data services with special focus on big data, artificial intelligence, iot, chatbots, machine learning and deep learning.  we are pleased to have campus event at mahendra engineering college for fresh hires and our requirement is as furnished below \\n position: data analyst / software developer \\ninterview process: written programming test (c or c++ or java) job location: chennai   job description: we're looking for people with a passion for programming, self-learners and open to learning new technologies for providing cutting edge solutions to customers. the resource should have excellent problem solving abilities with a good programming skills.    skills: good c/c++/java programming skills \\nsolid understanding of oops concept\\ngood analytical and problem solving skills\\ngood communication skills knowledge in tensorflow, neural networks will be an added advantage  salary:  3l/a to 5l/a (based on the skills & performance in the interview) education: all branches – all clears with 60%   the preliminary interview will be written programming test and the shortlisted students will have the subsequent f2f technical interviews at our offshore development centre, guindy, chennai. \",\n",
              " \"role:\\tproject technologist (user experience) – six-month attachment division:\\tfuture media  department:\\tresearch & development (r&d) grade:\\t8 based in:\\tmediacityuk, salford quays  context  this is an internal bbc attachment opportunity for a talented software engineer, developer or architect to join bbc r&d’s user experience (ux) group in our north lab in salford.  the ux group carries out research and development projects on a 1-5 year timescale, to create successful and innovative experiences both for audiences and content creators.   candidates are likely to have a degree in the field of science, engineering or computing, but we also welcome applications from talented software experts with different backgrounds, who can demonstrate breadth and depth in both their engineering skills and their technical knowledge.  for this attachment, we are particularly interested in the knowledge that the successful candidate can bring from their experience in a software role elsewhere in the bbc; including the specific technologies, platforms and development practices that they have used.  about bbc r&d  this role is within research & development; part of bbc future media division.  bbc r&d has a worldwide reputation for contributing to and leading the engineering research and development of many of the key broadcast technologies that have been introduced over the last 50 years.  the research work is mainly on new technologies that are expected to be rolled out on a 1 to 5 year timescale, and that require both in-depth theoretical knowledge and also a practical approach to potential deployment.  bbc r&d is based in three labs, one in west london, one being grown in salford and one in collaboration with a university in central london.  teams work closely with a wide range of bbc, industrial and academic partners to develop solutions and research across our range of technologies.   further information on the projects undertaken by bbc r&d can be found at:   purpose of role specific aims r&d technologists are inventive experts and creative problems that help the bbc use cutting-edge technology to creative successful experiences for users.  whether those users are production colleagues who need the very best craft tools, or members of our diverse audience with a wide range of aspirations and requirements, the bbc has a rich and successful history in scientific and engineering research and development.  this work has taken us from creating access services for our disabled users, through a range of tools that have transformed tv production, to synchronising hybrid broadcast-internet content spans users’ devices in connected homes.  in 2015 with new interaction technologies, multiple screens, next generation internet standards, and an ageing and diversifying range of users, the challenges of researching, prototyping and developing new ways for the bbc's audience to interact with our broadcast and online services remain exciting and strategically important.  in the role of project technologist, you will work on technologies that will enable more accessible and effective user experiences for our audiences.  current key projects include developing production and audiences experiences for personalised, highly responsive content, and the data science to describe them. you will work with partners across the bbc's broadcast and online teams, as well as universities and other research partners.  you will be required to design and develop software prototypes to demonstrate the principles and business impact of our r&d work.  where appropriate, you should be able to work on scaling these systems for user research, deployment and transfer.  general aims as a project technologist you will be responsible for research and development projects; either small projects that stand alone, or parts of larger projects where you will work to a project leader.  these projects may deliver hardware or software systems, technical standards, or research knowledge.  you will also be required to provide technical advice and consultancy within your own field of expertise.  you may be involved in any of the stages of a project, from feasibility studies through to implementation and delivery to the business.  you’ll have every opportunity to develop your skills and see your ideas through to completion, very often into operational service.   key responsibilities   specific responsibilities for this job develop prototype systems to support research into new types of user experience for web, mobile and internet-connected tv. help invent prototypes for creative technology users in bbc production environments, to support the next generation of production technologies. create software tools to investigate the impact of emerging and radical interaction technologies – such as touchscreens, gesture and voice control, haptic interfaces and beyond. research and contribute to emerging technology and web standards that could support the integration and synchronisation of experiences that span multiple devices in connected homes. work with user experience designers, user research scientists and users themselves to conduct experiments assessing the impact and value of prototype technologies. contribute engineering and programming expertise to related projects enhancing disabled, older and other users' experience with bbc content. publish appropriate work in academic and professional journals and to present it at conferences. help to develop and maintain project specific it systems for use in our work.  skills, experience and qualifications for this attachment, we welcome applications from all experienced software developers, including those without formal programming qualifications provided they can demonstrate appropriate programming skills gained in a professional or self-taught environment. essential at least four years professional programming experience, preferably including experience of developing algorithms in both strongly typed languages (e.g. c++ or java), as well as for web platforms (e.g. javascript, python, ruby). experience of developing software as part of bbc future media’s range of digital products demonstrable ability to identify, refine and resolve important and transformational problems and research questions in cutting-edge technology; using inventiveness, creativity and technical development work of the highest quality. ability and enthusiasm for developing your own original solutions and approaches to technical challenges, in additional to experience of working effectively in a team. demonstrable interest in user interface and interaction technology. either a upper second class degree or higher (or equivalent) in computer science, electronic engineering, physics or similar relevant science or engineering subject or (for candidates from an unconventional technical background) equivalent relevant technical knowledge and expertise obtained through significant, demonstrable experience of and contribution to appropriate technical projects in scientific, engineering or creative fields.  desirable experience of software development practices (including agile / scrum, experience driven development, kanban) as used within bbc future media a post-graduate degree or equivalent experience in engineering/scientific research or development experience of developing advanced interaction techniques (e.g. face recognition, voice interfaces, gesture capture) and current user interface technologies (e.g. html5, webgl, 3-d rendering / real-time graphics)  in addition to excellent programming skills, an interest in and experience of technologies which allow software to impact the physical hardware of the bbc and its audience; including audio-visual signal processing, microcontrollers and other electronics and computational architectures  bbc competencies technical knowledge - able to demonstrate a technical knowledge of the theoretical principles, and of specific equipment and systems, in an area of research or development relevant to bbc r&d technical skills - the methodologies, operational and manual skills in order to carry out the required work in an area of research or development relevant to bbc r&d flexibility and innovation - the ability to adapt to new situations and devise improvements to current situations. can demonstrate the ability to apply skills and experience to new problems and areas of research. resilience - can maintain personal effectiveness by managing own emotions in the face of pressure, set back or when dealing with provocative situations.  demonstrate an approach to work that is characterised by commitment, motivation and energy. self development - is able to identify and apply opportunities for learning and development for self and others analytical thinking - able to simplify complex problems, process projects into component parts, explore and evaluate them systematically.  able to identify causal relationships and construct frameworks, for problem solving and/or development. planning and organising skills - is able to think ahead in order to establish an effective and appropriate course of action for self and others. prioritises and plans activities taking into account all the relevant issues and factors such as deadlines, staffing and resources requirements. managing relationships - able to build and maintain effective working relationships with a range of people. communication - be able to get their message understood clearly by adopting a range of styles, tools and techniques appropriate to the audience and the nature of the information. health and safety awareness - the knowledge and understanding of risks to the health and safety of everyone in the workplace, and of how such risks can be minimised.           \",\n",
              " \"    front end developer – job description                  july 2019  paul street\\nfront end manager      job title: front end developer  job summary: a skilled front end web developer is required to join our front end team producing innovative sports betting products in central london.   experience working in the sports betting / gaming industry would be beneficial but not a must. the ideal candidate will be joining and collaborating with the existing front-end team. demonstrating the ability to work across different areas and stages of web product development: understanding business requirements; javascript development; testing; applying changes to customer environments.  responsibilities and duties:  developing new features within the existing product framework by applying appropriate coding patterns identifying and fixing bugs accurately estimating own development work end-to-end testing reviewing other developer's code and mentoring less senior developers handling direct customer contact on occasion performing live customer releases providing third tier technical support (including out of normal office hours as required)  skills and qualifications: essential: good javascript es6 specification knowledge experience of testing methodologies, ideally using jest or other javascript unit tests understanding of good website design and mobile-first principles understanding of javascript bundler processes (commonjs, amd, es6) github  beneficial:  understanding of seo considerations and conversion/retention pixel based tracking systems marionette (backbone) framework websockets ext js (sencha) cordova              \",\n",
              " 'job description intrasoft international, a leading european it solutions provider, is seeking a professional to cover the following opening:  senior .net developer (thessaloniki)  your role you will be part of a team with the following key responsibilities: develop efficient, robust, scalable and maintainable code using high-level programming languages perform code reviews in areas of responsibility interact with senior personnel to consider design, development and project planning approaches perform task breakdown, effort analysis and prioritization of  assigned work follow established practices and procedures to achieve overall project performance, schedule, and quality standards review technical documentation collaborate effectively with fellow engineers in quality assurance and customer support   job requirements required qualifications: university degree in computer science, software engineering or relevant field 8+ years of proven professional experience as a software engineer; demonstrated success developing a variety of software systems while taking on increasing responsibility for analysis, design, implementation and deployment tasks  familiarity with web application design and development principles experience in asp.net web development in c#/vb.net experience in rdbms strong knowledge of web technologies including html5, css3, javascript, jquery, ajax exposure to javascript frameworks such as reactjs, knockoutjs, angularjs or backbone.js. solid oo programming skills experience in using/creating rest and soap apis experience with source-control management concepts and tools experience with multi-threaded and network programming familiarity with project management methodologies excellent command of english language (oral, written) availability to travel abroad desired qualifications: knowledge and discipline in software engineering processes (waterfall, agile) knowledge of internet technologies (e.g. html, xml), and internetworking protocols (e.g. ip, tcp and http) experience in nosql databases experience in sap crystal reports experience in oracle programming (pl/sql) knowledge of cloud services and architecture scripting languages (e.g. perl, python) personal characteristics: communication skills methodical, quality and results-oriented ability to work within tight timelines ability to learn new technologies good interpersonal skills, adaptive and team player about intrasoft intrasoft international provides a creative, challenging and dynamic multinational environment which encourages team spirit, cooperation and continuous learning. for information regarding our company, current projects and openings around europe, please consult our website: www.intrasoft-intl.com.  all applications will be treated as strictly confidential.  job description intrasoft international, a leading european it solutions provider, is seeking a professional to cover the following opening:  mid .net developer  your role you will be part of a team with the following key responsibilities: develop efficient, robust, scalable and maintainable code using high-level programming languages perform code reviews in areas of responsibility interact with senior personnel to consider design, development and project planning approaches perform task breakdown, effort analysis and prioritization of  assigned work follow established practices and procedures to achieve overall project performance, schedule, and quality standards review technical documentation collaborate effectively with fellow engineers in quality assurance and customer support    job requirements required qualifications: university degree in computer science, software engineering or relevant field 3+ years of proven professional experience as a software engineer; demonstrated success developing a variety of software systems while taking on increasing responsibility for analysis, design, implementation and deployment tasks  familiarity with web application design and development principles experience in asp.net web development in c#/vb.net experience in rdbms strong knowledge of web technologies including html5, css3, javascript, jquery, ajax solid oo programming skills experience in using/creating rest and soap apis experience with source-control management concepts and tools experience with multi-threaded and network programming familiarity with project management methodologies excellent command of english language (oral, written) availability to travel abroad desired qualifications:  knowledge and discipline in software engineering processes (waterfall, agile) knowledge of internet technologies (e.g. html, xml), and internetworking protocols (e.g. ip, tcp and http) experience in nosql databases experience in sap crystal reports experience in oracle programming (pl/sql) knowledge of cloud services and architecture scripting languages (e.g. perl, python)  personal characteristics: communication skills methodical, quality and results-oriented ability to work within tight timelines ability to learn new technologies good interpersonal skills, adaptive and team player about intrasoft intrasoft international provides a creative, challenging and dynamic multinational environment which encourages team spirit, cooperation and continuous learning. for information regarding our company, current projects and openings around europe, please consult our website: www.intrasoft-intl.com.  all applications will be treated as strictly confidential.  job description intrasoft international, a leading european it solutions provider is seeking a professional for its athens branch, to cover the following opening:  senior java/jee software engineer  your role  you will be part of a team with the following key responsibilities:  design, develop, testing and maintain web applications perform a full range of complex programming tasks using a variety of web and application based programming technologies and languages, keeping current with new programming techniques. develop and maintain code and application libraries, instructions, and technical documentation. collaborate with team members to understand requirements and propose solutions engage with ux and visual designers to implement highly intuitive user experiences provide technical assessments, solution proposals, and time estimates for development tasks participate in peer code reviews embrace opportunities to enhance your skills and knowledge job requirements required skills: bsc degree in computer science, software engineering or a related discipline 8+ years of experience working with javaee solid experience with spring framework expert with html5/css3/javascript/ajax exposure to javascript mv* frameworks such as angularjs, ember, react, knockout, or backbone.js. hands-on knowledge in soap based web service integration oracle 11g/12c db experience experience with source control (git, subversion etc.) and build tools (maven) working knowledge of the general web landscape, architectures, trends, and emerging technologies personal characteristics: communication skills methodical, quality and results-oriented ability and willingness to work under pressure and meet tight deadlines ability to learn new technologies good interpersonal skills, adaptive and team player about intrasoft; intrasoft international provides a creative, challenging and dynamic multinational environment which encourages team spirit, cooperation and continuous learning. for information regarding our company, current projects and openings around europe, please consult our website: www.intrasoft-intl.com.   all applications will be treated as strictly confidential.   job description intrasoft international, a leading european it solutions provider, is seeking a professional to cover the following opening:  junior java developer  your role the appropriate candidate will be part of a team responsible for the analysis, design, development and testing of java/jee applications that are intended for telecom operators. job requirements required skills: university degree in computer science or other relevant field excellent knowledge of java solid understanding of object oriented programming and design patterns good knowledge of html5,css3 and jquery or equivalent javascript framework very good understanding of java ee architecture and enterprise web applications strong background in jee technologies: jsp/servlet, jdbc, jpa, ejb, jms, web services (rest, soap, json) jee application server experience preferably at least one of weblogic, jboss, websphere good knowledge of oracle pl/sql excellent command of the english language (written & verbal) desired skills: familiarity with junit, unit testing and continuous integration best practices experience in spring, maven, jenkins, sonar is a plus knowledge of esb/bpm concepts and soa principles experience in linux or unix os personal characteristics: strong analytical and problem solving skills ability to work independently and also as part of a team excellent interpersonal and team building skills highly self-motivated and methodical, with attention to detail about intrasoft; intrasoft international provides a creative, challenging and dynamic multinational environment which encourages team spirit, cooperation and continuous learning. for information regarding our company, current projects and openings around europe, please consult our website: www.intrasoft-intl.com.   all applications will be treated as strictly confidential.   job description intrasoft international, a leading european it solutions provider, is seeking a professional to cover the following opening: \\n\\nautomation test engineer\\n your role you will be working for one of the most important phases of the s/w development lifecycle, the factor acceptance testing part of your duties will be the following: participate in product design reviews to provide input on functional requirements, product designs, schedules, or potential problems develop and execute test cases to diagnose issues and bugs, creating test data when required   job requirements required qualifications: university or tei degree in computer science, engineering or other relevant field work experience in automation tools such as selenium/nunit etc and web service tools such as soapui experience in automation using the visual studio experience in agile development methodologies expertise in writing test scripts for functional, regression, subcutaneous and performance tests familiarity with issue tracking systems (jira) solid understanding of computer programming and software development excellent command of the english language (written & oral) personal characteristics: good communication skills highly self-motivated and methodical, with attention to detail strong analytical & problem solving skills ability to work effectively as part of a team ability to work in an international/multicultural environment intrasoft international provides a creative, challenging and dynamic multinational environment which encourages team spirit, cooperation and continuous learning.    all applications will be treated confidentially. ']"
            ]
          },
          "metadata": {
            "tags": []
          },
          "execution_count": 11
        }
      ]
    },
    {
      "cell_type": "code",
      "metadata": {
        "id": "D002r-4irs8T",
        "colab_type": "code",
        "colab": {}
      },
      "source": [
        "offres=pd.DataFrame({\"Offre\":all_offres})\n",
        "offres.to_csv(\"offres.csv\",sep=\";\")"
      ],
      "execution_count": 0,
      "outputs": []
    },
    {
      "cell_type": "code",
      "metadata": {
        "id": "2XidWbCiKMPQ",
        "colab_type": "code",
        "colab": {}
      },
      "source": [
        "import re\n",
        "alphabets= \"([A-Za-z])\"\n",
        "prefixes = \"(Mr|St|Mrs|Ms|Dr)[.]\"\n",
        "suffixes = \"(Inc|Ltd|Jr|Sr|Co)\"\n",
        "starters = \"(Mr|Mrs|Ms|Dr|He\\s|She\\s|It\\s|They\\s|Their\\s|Our\\s|We\\s|But\\s|However\\s|That\\s|This\\s|Wherever)\"\n",
        "acronyms = \"([A-Z][.][A-Z][.](?:[A-Z][.])?)\"\n",
        "websites = \"[.](com|net|org|io|gov)\"\n",
        "\n",
        "def split_into_sentences(text):\n",
        "    text = \" \" + text + \"  \"\n",
        "    text = text.replace(\"\\n\",\" \")\n",
        "    text = re.sub(prefixes,\"\\\\1<prd>\",text)\n",
        "    text = re.sub(websites,\"<prd>\\\\1\",text)\n",
        "    if \"Ph.D\" in text: text = text.replace(\"Ph.D.\",\"Ph<prd>D<prd>\")\n",
        "    text = re.sub(\"\\s\" + alphabets + \"[.] \",\" \\\\1<prd> \",text)\n",
        "    text = re.sub(acronyms+\" \"+starters,\"\\\\1<stop> \\\\2\",text)\n",
        "    text = re.sub(alphabets + \"[.]\" + alphabets + \"[.]\" + alphabets + \"[.]\",\"\\\\1<prd>\\\\2<prd>\\\\3<prd>\",text)\n",
        "    text = re.sub(alphabets + \"[.]\" + alphabets + \"[.]\",\"\\\\1<prd>\\\\2<prd>\",text)\n",
        "    text = re.sub(\" \"+suffixes+\"[.] \"+starters,\" \\\\1<stop> \\\\2\",text)\n",
        "    text = re.sub(\" \"+suffixes+\"[.]\",\" \\\\1<prd>\",text)\n",
        "    text = re.sub(\" \" + alphabets + \"[.]\",\" \\\\1<prd>\",text)\n",
        "    if \"”\" in text: text = text.replace(\".”\",\"”.\")\n",
        "    if \"\\\"\" in text: text = text.replace(\".\\\"\",\"\\\".\")\n",
        "    if \"!\" in text: text = text.replace(\"!\\\"\",\"\\\"!\")\n",
        "    if \"?\" in text: text = text.replace(\"?\\\"\",\"\\\"?\")\n",
        "    if \";\" in text: text = text.replace(\";\\\"\",\"\\\";\")    \n",
        "    text = text.replace(\".\",\".<stop>\")\n",
        "    text = text.replace(\";\",\";<stop>\")\n",
        "    text = text.replace(\"?\",\"?<stop>\")\n",
        "    text = text.replace(\"!\",\"!<stop>\")\n",
        "    text = text.replace(\"<prd>\",\".\")\n",
        "    sentences = text.split(\"<stop>\")\n",
        "    sentences = sentences[:-1]\n",
        "    sentences = [s.strip() for s in sentences]\n",
        "    return sentences"
      ],
      "execution_count": 0,
      "outputs": []
    },
    {
      "cell_type": "code",
      "metadata": {
        "id": "dSVEW4gCgU8B",
        "colab_type": "code",
        "colab": {}
      },
      "source": [
        "sent = []\n",
        "i = 0\n",
        "for s in all_offres:\n",
        "  i = i + 1\n",
        "  sen = split_into_sentences(s)\n",
        "  for ss in sen:\n",
        "    sent.append([\"Job\"+str(i),ss])\n",
        "\n",
        "sent"
      ],
      "execution_count": 0,
      "outputs": []
    },
    {
      "cell_type": "code",
      "metadata": {
        "id": "HaXe7DFKmw09",
        "colab_type": "code",
        "colab": {}
      },
      "source": [
        "sent0 = []\n",
        "sent1 = []\n",
        "for s in sent:\n",
        "  sent0.append(s[0])\n",
        "  sent1.append(s[1])\n",
        "sentence=pd.DataFrame({\"Document\":sent0,\"Sentence\":sent1})\n",
        "sentence.to_csv(\"sentence.csv\",sep=\";\")"
      ],
      "execution_count": 0,
      "outputs": []
    },
    {
      "cell_type": "code",
      "metadata": {
        "id": "rkJLGFFWuScQ",
        "colab_type": "code",
        "colab": {
          "base_uri": "https://localhost:8080/",
          "height": 204
        },
        "outputId": "d6b10630-a181-4053-9671-966362372941"
      },
      "source": [
        "sentence.head()"
      ],
      "execution_count": 35,
      "outputs": [
        {
          "output_type": "execute_result",
          "data": {
            "text/html": [
              "<div>\n",
              "<style scoped>\n",
              "    .dataframe tbody tr th:only-of-type {\n",
              "        vertical-align: middle;\n",
              "    }\n",
              "\n",
              "    .dataframe tbody tr th {\n",
              "        vertical-align: top;\n",
              "    }\n",
              "\n",
              "    .dataframe thead th {\n",
              "        text-align: right;\n",
              "    }\n",
              "</style>\n",
              "<table border=\"1\" class=\"dataframe\">\n",
              "  <thead>\n",
              "    <tr style=\"text-align: right;\">\n",
              "      <th></th>\n",
              "      <th>Document</th>\n",
              "      <th>Sentence</th>\n",
              "    </tr>\n",
              "  </thead>\n",
              "  <tbody>\n",
              "    <tr>\n",
              "      <th>0</th>\n",
              "      <td>Job1</td>\n",
              "      <td>3d graphics software engineer   delair delair ...</td>\n",
              "    </tr>\n",
              "    <tr>\n",
              "      <th>1</th>\n",
              "      <td>Job1</td>\n",
              "      <td>we enable enterprises to monitor and digitize ...</td>\n",
              "    </tr>\n",
              "    <tr>\n",
              "      <th>2</th>\n",
              "      <td>Job1</td>\n",
              "      <td>our solutions are used globally by customers i...</td>\n",
              "    </tr>\n",
              "    <tr>\n",
              "      <th>3</th>\n",
              "      <td>Job1</td>\n",
              "      <td>by joining delair, you will participate in wha...</td>\n",
              "    </tr>\n",
              "    <tr>\n",
              "      <th>4</th>\n",
              "      <td>Job1</td>\n",
              "      <td>the combination of drones, cloud-based service...</td>\n",
              "    </tr>\n",
              "  </tbody>\n",
              "</table>\n",
              "</div>"
            ],
            "text/plain": [
              "  Document                                           Sentence\n",
              "0     Job1  3d graphics software engineer   delair delair ...\n",
              "1     Job1  we enable enterprises to monitor and digitize ...\n",
              "2     Job1  our solutions are used globally by customers i...\n",
              "3     Job1  by joining delair, you will participate in wha...\n",
              "4     Job1  the combination of drones, cloud-based service..."
            ]
          },
          "metadata": {
            "tags": []
          },
          "execution_count": 35
        }
      ]
    },
    {
      "cell_type": "code",
      "metadata": {
        "id": "rO1O_EfJ6mJz",
        "colab_type": "code",
        "colab": {}
      },
      "source": [
        ""
      ],
      "execution_count": 0,
      "outputs": []
    }
  ]
}