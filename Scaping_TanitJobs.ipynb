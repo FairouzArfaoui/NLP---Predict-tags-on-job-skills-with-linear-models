{
 "cells": [
  {
   "cell_type": "markdown",
   "metadata": {},
   "source": [
    "# <center> `Scraping TanitJobs `</center>"
   ]
  },
  {
   "cell_type": "code",
   "execution_count": 2,
   "metadata": {},
   "outputs": [],
   "source": [
    "from selenium import webdriver\n",
    "from selenium.webdriver.support.ui import WebDriverWait\n",
    "from selenium.webdriver.support import expected_conditions as EC\n",
    "from selenium.webdriver.common.by import By\n",
    "from selenium.common.exceptions import TimeoutException\n",
    "from selenium.webdriver.common.keys import Keys\n",
    "import time\n",
    "from selenium.webdriver.common.action_chains import ActionChains\n",
    "from selenium.webdriver.common.keys import Keys\n",
    "\n",
    "# bfs4\n",
    "from bs4 import BeautifulSoup\n",
    "import urllib.request\n",
    "import requests\n",
    "\n",
    "import pandas as pd"
   ]
  },
  {
   "cell_type": "markdown",
   "metadata": {},
   "source": [
    "### Use selenium to retrieve job offer urls"
   ]
  },
  {
   "cell_type": "code",
   "execution_count": null,
   "metadata": {},
   "outputs": [],
   "source": [
    "options =webdriver.ChromeOptions()\n",
    "options.headless=False\n",
    "prefs={\"profile.default_content_setting_values.notifications\" :2}\n",
    "options.add_experimental_option(\"prefs\",prefs)\n",
    "driver = webdriver.Chrome('C:/chromedriver/chromedriver.exe')\n",
    "\n",
    "driver.get(\"https://www.tanitjobs.com/\")\n",
    "driver.find_element_by_xpath('//*[@id=\"keywords\"]').send_keys(\"informatique\",Keys.ENTER)\n",
    "time.sleep(1)\n",
    "\n",
    "num_links = len(driver.find_elements_by_class_name('pad_right_small'))\n",
    "num_links\n",
    "\n",
    "a=0\n",
    "for i in range(num_links):\n",
    "    driver.find_element_by_xpath(\"/html/body/div[1]/div/div[2]/div[3]/div[4]/button\").click()\n",
    "    a+=1\n",
    "\n",
    "list_url=[]\n",
    "for i in range(len(driver.find_elements_by_class_name(\"link\"))):\n",
    "    button = driver.find_elements_by_class_name(\"link\")[i]\n",
    "    button.click()\n",
    "    print(driver.current_url)\n",
    "    list_url.append(driver.current_url)\n",
    "    driver.execute_script(\"window.history.go(-1)\")  "
   ]
  },
  {
   "cell_type": "code",
   "execution_count": null,
   "metadata": {},
   "outputs": [],
   "source": [
    "# On supprimer l url de la page intiale de recherche\n",
    "list_url.remove(list_url[0])"
   ]
  },
  {
   "cell_type": "markdown",
   "metadata": {},
   "source": [
    "### Scraping avec beautifulSoup "
   ]
  },
  {
   "cell_type": "code",
   "execution_count": null,
   "metadata": {},
   "outputs": [],
   "source": [
    "a=0\n",
    "for i in range(len(list_url)):\n",
    "    urlpage = list_url[i]\n",
    "    page = urllib.request.urlopen(urlpage)\n",
    "    soup = BeautifulSoup(page, 'html.parser')\n",
    "\n",
    "    description =soup.find_all('div', class_='details-body__content content-text')[0].get_text()\n",
    "    description = description.replace(u'\\xa0', u' ')\n",
    "    description = description.replace(u'\\n', u' ')\n",
    "\n",
    "    uls = soup.select(\"div.bootstrap-tagsinput\")\n",
    "    text = [a.text for ul in uls for a in  ul.select(\"a\")]\n",
    "#------------------------------------------------------------------------------------\n",
    "\n",
    "    df = pd.DataFrame({'description':[description],'Tags':[text]})\n",
    "    df = pd.concat([df, df_temp])\n",
    "    #Delet index\n",
    "    df.reset_index(drop=True, inplace=True)\n",
    "\n",
    "    df.to_csv('Tanitjobs.csv',index=False)\n",
    "    a+=1  "
   ]
  },
  {
   "cell_type": "code",
   "execution_count": 4,
   "metadata": {},
   "outputs": [
    {
     "output_type": "execute_result",
     "data": {
      "text/plain": "   Unnamed: 0                                               text  \\\n0           0  Skills and Qualifications  Bachelor's degree i...   \n1           1  Profile: You have completed your technical stu...   \n2           2  Technical Skills: SQL Server / SQL, basic Sync...   \n3           3  In our R & D team, you will participate in the...   \n4           4  Job requirements you serious, motivated, punct...   \n\n                                                Tags  \n0  ['informatique ', \"Technologie de l'informatio...  \n1  ['Développeur  ', 'Informatique  ', 'Web  ', '...  \n2  ['Responsable Applicatif  ', 'Informatique  ',...  \n3  ['Ingénieur  ', 'Informatique  ', 'Développeme...  \n4  ['Formateur  ', 'Développement  ', 'Informatiq...  ",
      "text/html": "<div>\n<style scoped>\n    .dataframe tbody tr th:only-of-type {\n        vertical-align: middle;\n    }\n\n    .dataframe tbody tr th {\n        vertical-align: top;\n    }\n\n    .dataframe thead th {\n        text-align: right;\n    }\n</style>\n<table border=\"1\" class=\"dataframe\">\n  <thead>\n    <tr style=\"text-align: right;\">\n      <th></th>\n      <th>Unnamed: 0</th>\n      <th>text</th>\n      <th>Tags</th>\n    </tr>\n  </thead>\n  <tbody>\n    <tr>\n      <th>0</th>\n      <td>0</td>\n      <td>Skills and Qualifications  Bachelor's degree i...</td>\n      <td>['informatique ', \"Technologie de l'informatio...</td>\n    </tr>\n    <tr>\n      <th>1</th>\n      <td>1</td>\n      <td>Profile: You have completed your technical stu...</td>\n      <td>['Développeur  ', 'Informatique  ', 'Web  ', '...</td>\n    </tr>\n    <tr>\n      <th>2</th>\n      <td>2</td>\n      <td>Technical Skills: SQL Server / SQL, basic Sync...</td>\n      <td>['Responsable Applicatif  ', 'Informatique  ',...</td>\n    </tr>\n    <tr>\n      <th>3</th>\n      <td>3</td>\n      <td>In our R &amp; D team, you will participate in the...</td>\n      <td>['Ingénieur  ', 'Informatique  ', 'Développeme...</td>\n    </tr>\n    <tr>\n      <th>4</th>\n      <td>4</td>\n      <td>Job requirements you serious, motivated, punct...</td>\n      <td>['Formateur  ', 'Développement  ', 'Informatiq...</td>\n    </tr>\n  </tbody>\n</table>\n</div>"
     },
     "metadata": {},
     "execution_count": 4
    }
   ],
   "source": [
    "df.head()"
   ]
  },
  {
   "cell_type": "code",
   "execution_count": null,
   "metadata": {},
   "outputs": [],
   "source": []
  }
 ],
 "metadata": {
  "language_info": {
   "codemirror_mode": {
    "name": "ipython",
    "version": 3
   },
   "file_extension": ".py",
   "mimetype": "text/x-python",
   "name": "python",
   "nbconvert_exporter": "python",
   "pygments_lexer": "ipython3",
   "version": "3.7.1-final"
  },
  "orig_nbformat": 2,
  "kernelspec": {
   "name": "python3",
   "display_name": "Python 3"
  }
 },
 "nbformat": 4,
 "nbformat_minor": 2
}